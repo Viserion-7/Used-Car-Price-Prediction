{
 "cells": [
  {
   "cell_type": "code",
   "execution_count": 1,
   "metadata": {
    "_cell_guid": "b7d85e5d-c43d-4caf-9a30-cbbd75180a16",
    "_uuid": "c3bc2a83-8ff3-4692-bc7c-081489806405",
    "collapsed": false,
    "execution": {
     "iopub.execute_input": "2024-07-09T09:30:08.339850Z",
     "iopub.status.busy": "2024-07-09T09:30:08.339074Z",
     "iopub.status.idle": "2024-07-09T09:30:08.356183Z",
     "shell.execute_reply": "2024-07-09T09:30:08.355354Z",
     "shell.execute_reply.started": "2024-07-09T08:55:42.622316Z"
    },
    "jupyter": {
     "outputs_hidden": false
    },
    "papermill": {
     "duration": 0.105809,
     "end_time": "2024-07-09T09:30:08.356337",
     "exception": false,
     "start_time": "2024-07-09T09:30:08.250528",
     "status": "completed"
    },
    "tags": []
   },
   "outputs": [
    {
     "name": "stdout",
     "output_type": "stream",
     "text": [
      "/kaggle/input/used-cars-price-prediction/test-data.csv\n",
      "/kaggle/input/used-cars-price-prediction/train-data.csv\n"
     ]
    }
   ],
   "source": [
    "# This Python 3 environment comes with many helpful analytics libraries installed\n",
    "# It is defined by the kaggle/python Docker image: https://github.com/kaggle/docker-python\n",
    "# For example, here's several helpful packages to load\n",
    "\n",
    "import numpy as np # linear algebra\n",
    "import pandas as pd # data processing, CSV file I/O (e.g. pd.read_csv)\n",
    "\n",
    "# Input data files are available in the read-only \"../input/\" directory\n",
    "# For example, running this (by clicking run or pressing Shift+Enter) will list all files under the input directory\n",
    "\n",
    "import os\n",
    "for dirname, _, filenames in os.walk('/kaggle/input'):\n",
    "    for filename in filenames:\n",
    "        print(os.path.join(dirname, filename))\n",
    "\n",
    "# You can write up to 20GB to the current directory (/kaggle/working/) that gets preserved as output when you create a version using \"Save & Run All\" \n",
    "# You can also write temporary files to /kaggle/temp/, but they won't be saved outside of the current session"
   ]
  },
  {
   "cell_type": "code",
   "execution_count": 2,
   "metadata": {
    "_cell_guid": "77069974-94c4-4819-aacb-ee2506ac7720",
    "_uuid": "47536fd3-0a37-47fc-b035-28357cfae9e1",
    "collapsed": false,
    "execution": {
     "iopub.execute_input": "2024-07-09T09:30:08.530884Z",
     "iopub.status.busy": "2024-07-09T09:30:08.530079Z",
     "iopub.status.idle": "2024-07-09T09:30:11.446246Z",
     "shell.execute_reply": "2024-07-09T09:30:11.445298Z",
     "shell.execute_reply.started": "2024-07-09T08:55:42.930057Z"
    },
    "jupyter": {
     "outputs_hidden": false
    },
    "papermill": {
     "duration": 3.004719,
     "end_time": "2024-07-09T09:30:11.446408",
     "exception": false,
     "start_time": "2024-07-09T09:30:08.441689",
     "status": "completed"
    },
    "tags": []
   },
   "outputs": [
    {
     "data": {
      "text/html": [
       "<style type='text/css'>\n",
       ".datatable table.frame { margin-bottom: 0; }\n",
       ".datatable table.frame thead { border-bottom: none; }\n",
       ".datatable table.frame tr.coltypes td {  color: #FFFFFF;  line-height: 6px;  padding: 0 0.5em;}\n",
       ".datatable .bool    { background: #DDDD99; }\n",
       ".datatable .object  { background: #565656; }\n",
       ".datatable .int     { background: #5D9E5D; }\n",
       ".datatable .float   { background: #4040CC; }\n",
       ".datatable .str     { background: #CC4040; }\n",
       ".datatable .row_index {  background: var(--jp-border-color3);  border-right: 1px solid var(--jp-border-color0);  color: var(--jp-ui-font-color3);  font-size: 9px;}\n",
       ".datatable .frame tr.coltypes .row_index {  background: var(--jp-border-color0);}\n",
       ".datatable th:nth-child(2) { padding-left: 12px; }\n",
       ".datatable .hellipsis {  color: var(--jp-cell-editor-border-color);}\n",
       ".datatable .vellipsis {  background: var(--jp-layout-color0);  color: var(--jp-cell-editor-border-color);}\n",
       ".datatable .na {  color: var(--jp-cell-editor-border-color);  font-size: 80%;}\n",
       ".datatable .footer { font-size: 9px; }\n",
       ".datatable .frame_dimensions {  background: var(--jp-border-color3);  border-top: 1px solid var(--jp-border-color0);  color: var(--jp-ui-font-color3);  display: inline-block;  opacity: 0.6;  padding: 1px 10px 1px 5px;}\n",
       "</style>\n"
      ],
      "text/plain": [
       "<IPython.core.display.HTML object>"
      ]
     },
     "metadata": {},
     "output_type": "display_data"
    }
   ],
   "source": [
    "import matplotlib.pyplot as plt\n",
    "import seaborn as sns\n",
    "from sklearn.model_selection import train_test_split, GridSearchCV\n",
    "from sklearn.metrics import mean_squared_error\n",
    "from sklearn.preprocessing import StandardScaler, LabelEncoder, OneHotEncoder\n",
    "from sklearn.linear_model import LinearRegression\n",
    "from sklearn.ensemble import RandomForestRegressor, ExtraTreesRegressor\n",
    "import xgboost as xgb\n",
    "import lightgbm as lgb\n",
    "import warnings\n",
    "\n",
    "warnings.filterwarnings('ignore')\n",
    "pd.set_option('display.max_columns', None)\n",
    "plt.style.use(style='ggplot')\n",
    "%matplotlib inline"
   ]
  },
  {
   "cell_type": "code",
   "execution_count": 3,
   "metadata": {
    "_cell_guid": "e7be7d74-033a-4b48-bfcb-66dbb1cb04ef",
    "_uuid": "a6a5fff0-ea6b-4daa-a97a-d06271fd36b1",
    "collapsed": false,
    "execution": {
     "iopub.execute_input": "2024-07-09T09:30:11.616306Z",
     "iopub.status.busy": "2024-07-09T09:30:11.615509Z",
     "iopub.status.idle": "2024-07-09T09:30:11.697831Z",
     "shell.execute_reply": "2024-07-09T09:30:11.698376Z",
     "shell.execute_reply.started": "2024-07-09T08:55:45.645618Z"
    },
    "jupyter": {
     "outputs_hidden": false
    },
    "papermill": {
     "duration": 0.172789,
     "end_time": "2024-07-09T09:30:11.698600",
     "exception": false,
     "start_time": "2024-07-09T09:30:11.525811",
     "status": "completed"
    },
    "tags": []
   },
   "outputs": [
    {
     "name": "stdout",
     "output_type": "stream",
     "text": [
      "(6019, 14)\n",
      "<class 'pandas.core.frame.DataFrame'>\n",
      "RangeIndex: 6019 entries, 0 to 6018\n",
      "Data columns (total 14 columns):\n",
      " #   Column             Non-Null Count  Dtype  \n",
      "---  ------             --------------  -----  \n",
      " 0   Unnamed: 0         6019 non-null   int64  \n",
      " 1   Name               6019 non-null   object \n",
      " 2   Location           6019 non-null   object \n",
      " 3   Year               6019 non-null   int64  \n",
      " 4   Kilometers_Driven  6019 non-null   int64  \n",
      " 5   Fuel_Type          6019 non-null   object \n",
      " 6   Transmission       6019 non-null   object \n",
      " 7   Owner_Type         6019 non-null   object \n",
      " 8   Mileage            6017 non-null   object \n",
      " 9   Engine             5983 non-null   object \n",
      " 10  Power              5983 non-null   object \n",
      " 11  Seats              5977 non-null   float64\n",
      " 12  New_Price          824 non-null    object \n",
      " 13  Price              6019 non-null   float64\n",
      "dtypes: float64(2), int64(3), object(9)\n",
      "memory usage: 658.5+ KB\n",
      "None\n",
      "(1234, 13)\n",
      "<class 'pandas.core.frame.DataFrame'>\n",
      "RangeIndex: 1234 entries, 0 to 1233\n",
      "Data columns (total 13 columns):\n",
      " #   Column             Non-Null Count  Dtype  \n",
      "---  ------             --------------  -----  \n",
      " 0   Unnamed: 0         1234 non-null   int64  \n",
      " 1   Name               1234 non-null   object \n",
      " 2   Location           1234 non-null   object \n",
      " 3   Year               1234 non-null   int64  \n",
      " 4   Kilometers_Driven  1234 non-null   int64  \n",
      " 5   Fuel_Type          1234 non-null   object \n",
      " 6   Transmission       1234 non-null   object \n",
      " 7   Owner_Type         1234 non-null   object \n",
      " 8   Mileage            1234 non-null   object \n",
      " 9   Engine             1224 non-null   object \n",
      " 10  Power              1224 non-null   object \n",
      " 11  Seats              1223 non-null   float64\n",
      " 12  New_Price          182 non-null    object \n",
      "dtypes: float64(1), int64(3), object(9)\n",
      "memory usage: 125.5+ KB\n",
      "None\n"
     ]
    }
   ],
   "source": [
    "# Loading the data\n",
    "train = pd.read_csv('../input/used-cars-price-prediction/train-data.csv')\n",
    "test = pd.read_csv('../input/used-cars-price-prediction/test-data.csv')\n",
    "print(train.shape)\n",
    "print(train.info())\n",
    "print(test.shape)\n",
    "print(test.info())"
   ]
  },
  {
   "cell_type": "code",
   "execution_count": 4,
   "metadata": {
    "_cell_guid": "ca16e668-4b61-4645-a178-8ed3aad162f2",
    "_uuid": "688b772b-29f5-498a-ac5e-6af45f6cf952",
    "collapsed": false,
    "execution": {
     "iopub.execute_input": "2024-07-09T09:30:11.877824Z",
     "iopub.status.busy": "2024-07-09T09:30:11.877041Z",
     "iopub.status.idle": "2024-07-09T09:30:11.891944Z",
     "shell.execute_reply": "2024-07-09T09:30:11.891279Z",
     "shell.execute_reply.started": "2024-07-09T08:55:45.770732Z"
    },
    "jupyter": {
     "outputs_hidden": false
    },
    "papermill": {
     "duration": 0.111182,
     "end_time": "2024-07-09T09:30:11.892082",
     "exception": false,
     "start_time": "2024-07-09T09:30:11.780900",
     "status": "completed"
    },
    "tags": []
   },
   "outputs": [
    {
     "data": {
      "text/html": [
       "<div>\n",
       "<style scoped>\n",
       "    .dataframe tbody tr th:only-of-type {\n",
       "        vertical-align: middle;\n",
       "    }\n",
       "\n",
       "    .dataframe tbody tr th {\n",
       "        vertical-align: top;\n",
       "    }\n",
       "\n",
       "    .dataframe thead th {\n",
       "        text-align: right;\n",
       "    }\n",
       "</style>\n",
       "<table border=\"1\" class=\"dataframe\">\n",
       "  <thead>\n",
       "    <tr style=\"text-align: right;\">\n",
       "      <th></th>\n",
       "      <th>Unnamed: 0</th>\n",
       "      <th>Name</th>\n",
       "      <th>Location</th>\n",
       "      <th>Year</th>\n",
       "      <th>Kilometers_Driven</th>\n",
       "      <th>Fuel_Type</th>\n",
       "      <th>Transmission</th>\n",
       "      <th>Owner_Type</th>\n",
       "      <th>Mileage</th>\n",
       "      <th>Engine</th>\n",
       "      <th>Power</th>\n",
       "      <th>Seats</th>\n",
       "      <th>New_Price</th>\n",
       "      <th>Price</th>\n",
       "    </tr>\n",
       "  </thead>\n",
       "  <tbody>\n",
       "    <tr>\n",
       "      <th>0</th>\n",
       "      <td>0</td>\n",
       "      <td>Maruti Wagon R LXI CNG</td>\n",
       "      <td>Mumbai</td>\n",
       "      <td>2010</td>\n",
       "      <td>72000</td>\n",
       "      <td>CNG</td>\n",
       "      <td>Manual</td>\n",
       "      <td>First</td>\n",
       "      <td>26.6 km/kg</td>\n",
       "      <td>998 CC</td>\n",
       "      <td>58.16 bhp</td>\n",
       "      <td>5.0</td>\n",
       "      <td>NaN</td>\n",
       "      <td>1.75</td>\n",
       "    </tr>\n",
       "    <tr>\n",
       "      <th>1</th>\n",
       "      <td>1</td>\n",
       "      <td>Hyundai Creta 1.6 CRDi SX Option</td>\n",
       "      <td>Pune</td>\n",
       "      <td>2015</td>\n",
       "      <td>41000</td>\n",
       "      <td>Diesel</td>\n",
       "      <td>Manual</td>\n",
       "      <td>First</td>\n",
       "      <td>19.67 kmpl</td>\n",
       "      <td>1582 CC</td>\n",
       "      <td>126.2 bhp</td>\n",
       "      <td>5.0</td>\n",
       "      <td>NaN</td>\n",
       "      <td>12.50</td>\n",
       "    </tr>\n",
       "    <tr>\n",
       "      <th>2</th>\n",
       "      <td>2</td>\n",
       "      <td>Honda Jazz V</td>\n",
       "      <td>Chennai</td>\n",
       "      <td>2011</td>\n",
       "      <td>46000</td>\n",
       "      <td>Petrol</td>\n",
       "      <td>Manual</td>\n",
       "      <td>First</td>\n",
       "      <td>18.2 kmpl</td>\n",
       "      <td>1199 CC</td>\n",
       "      <td>88.7 bhp</td>\n",
       "      <td>5.0</td>\n",
       "      <td>8.61 Lakh</td>\n",
       "      <td>4.50</td>\n",
       "    </tr>\n",
       "    <tr>\n",
       "      <th>3</th>\n",
       "      <td>3</td>\n",
       "      <td>Maruti Ertiga VDI</td>\n",
       "      <td>Chennai</td>\n",
       "      <td>2012</td>\n",
       "      <td>87000</td>\n",
       "      <td>Diesel</td>\n",
       "      <td>Manual</td>\n",
       "      <td>First</td>\n",
       "      <td>20.77 kmpl</td>\n",
       "      <td>1248 CC</td>\n",
       "      <td>88.76 bhp</td>\n",
       "      <td>7.0</td>\n",
       "      <td>NaN</td>\n",
       "      <td>6.00</td>\n",
       "    </tr>\n",
       "    <tr>\n",
       "      <th>4</th>\n",
       "      <td>4</td>\n",
       "      <td>Audi A4 New 2.0 TDI Multitronic</td>\n",
       "      <td>Coimbatore</td>\n",
       "      <td>2013</td>\n",
       "      <td>40670</td>\n",
       "      <td>Diesel</td>\n",
       "      <td>Automatic</td>\n",
       "      <td>Second</td>\n",
       "      <td>15.2 kmpl</td>\n",
       "      <td>1968 CC</td>\n",
       "      <td>140.8 bhp</td>\n",
       "      <td>5.0</td>\n",
       "      <td>NaN</td>\n",
       "      <td>17.74</td>\n",
       "    </tr>\n",
       "  </tbody>\n",
       "</table>\n",
       "</div>"
      ],
      "text/plain": [
       "   Unnamed: 0                              Name    Location  Year  \\\n",
       "0           0            Maruti Wagon R LXI CNG      Mumbai  2010   \n",
       "1           1  Hyundai Creta 1.6 CRDi SX Option        Pune  2015   \n",
       "2           2                      Honda Jazz V     Chennai  2011   \n",
       "3           3                 Maruti Ertiga VDI     Chennai  2012   \n",
       "4           4   Audi A4 New 2.0 TDI Multitronic  Coimbatore  2013   \n",
       "\n",
       "   Kilometers_Driven Fuel_Type Transmission Owner_Type     Mileage   Engine  \\\n",
       "0              72000       CNG       Manual      First  26.6 km/kg   998 CC   \n",
       "1              41000    Diesel       Manual      First  19.67 kmpl  1582 CC   \n",
       "2              46000    Petrol       Manual      First   18.2 kmpl  1199 CC   \n",
       "3              87000    Diesel       Manual      First  20.77 kmpl  1248 CC   \n",
       "4              40670    Diesel    Automatic     Second   15.2 kmpl  1968 CC   \n",
       "\n",
       "       Power  Seats  New_Price  Price  \n",
       "0  58.16 bhp    5.0        NaN   1.75  \n",
       "1  126.2 bhp    5.0        NaN  12.50  \n",
       "2   88.7 bhp    5.0  8.61 Lakh   4.50  \n",
       "3  88.76 bhp    7.0        NaN   6.00  \n",
       "4  140.8 bhp    5.0        NaN  17.74  "
      ]
     },
     "execution_count": 4,
     "metadata": {},
     "output_type": "execute_result"
    }
   ],
   "source": [
    "train.head()"
   ]
  },
  {
   "cell_type": "code",
   "execution_count": 5,
   "metadata": {
    "_cell_guid": "d93d1800-a374-4e46-82b2-f95fa9d6633a",
    "_uuid": "74e0a49f-d7be-4e0e-b66a-016219af50db",
    "collapsed": false,
    "execution": {
     "iopub.execute_input": "2024-07-09T09:30:12.078802Z",
     "iopub.status.busy": "2024-07-09T09:30:12.069904Z",
     "iopub.status.idle": "2024-07-09T09:30:12.084155Z",
     "shell.execute_reply": "2024-07-09T09:30:12.083348Z",
     "shell.execute_reply.started": "2024-07-09T08:55:45.799228Z"
    },
    "jupyter": {
     "outputs_hidden": false
    },
    "papermill": {
     "duration": 0.109935,
     "end_time": "2024-07-09T09:30:12.084314",
     "exception": false,
     "start_time": "2024-07-09T09:30:11.974379",
     "status": "completed"
    },
    "tags": []
   },
   "outputs": [
    {
     "data": {
      "text/html": [
       "<div>\n",
       "<style scoped>\n",
       "    .dataframe tbody tr th:only-of-type {\n",
       "        vertical-align: middle;\n",
       "    }\n",
       "\n",
       "    .dataframe tbody tr th {\n",
       "        vertical-align: top;\n",
       "    }\n",
       "\n",
       "    .dataframe thead th {\n",
       "        text-align: right;\n",
       "    }\n",
       "</style>\n",
       "<table border=\"1\" class=\"dataframe\">\n",
       "  <thead>\n",
       "    <tr style=\"text-align: right;\">\n",
       "      <th></th>\n",
       "      <th>Unnamed: 0</th>\n",
       "      <th>Name</th>\n",
       "      <th>Location</th>\n",
       "      <th>Year</th>\n",
       "      <th>Kilometers_Driven</th>\n",
       "      <th>Fuel_Type</th>\n",
       "      <th>Transmission</th>\n",
       "      <th>Owner_Type</th>\n",
       "      <th>Mileage</th>\n",
       "      <th>Engine</th>\n",
       "      <th>Power</th>\n",
       "      <th>Seats</th>\n",
       "      <th>New_Price</th>\n",
       "    </tr>\n",
       "  </thead>\n",
       "  <tbody>\n",
       "    <tr>\n",
       "      <th>0</th>\n",
       "      <td>0</td>\n",
       "      <td>Maruti Alto K10 LXI CNG</td>\n",
       "      <td>Delhi</td>\n",
       "      <td>2014</td>\n",
       "      <td>40929</td>\n",
       "      <td>CNG</td>\n",
       "      <td>Manual</td>\n",
       "      <td>First</td>\n",
       "      <td>32.26 km/kg</td>\n",
       "      <td>998 CC</td>\n",
       "      <td>58.2 bhp</td>\n",
       "      <td>4.0</td>\n",
       "      <td>NaN</td>\n",
       "    </tr>\n",
       "    <tr>\n",
       "      <th>1</th>\n",
       "      <td>1</td>\n",
       "      <td>Maruti Alto 800 2016-2019 LXI</td>\n",
       "      <td>Coimbatore</td>\n",
       "      <td>2013</td>\n",
       "      <td>54493</td>\n",
       "      <td>Petrol</td>\n",
       "      <td>Manual</td>\n",
       "      <td>Second</td>\n",
       "      <td>24.7 kmpl</td>\n",
       "      <td>796 CC</td>\n",
       "      <td>47.3 bhp</td>\n",
       "      <td>5.0</td>\n",
       "      <td>NaN</td>\n",
       "    </tr>\n",
       "    <tr>\n",
       "      <th>2</th>\n",
       "      <td>2</td>\n",
       "      <td>Toyota Innova Crysta Touring Sport 2.4 MT</td>\n",
       "      <td>Mumbai</td>\n",
       "      <td>2017</td>\n",
       "      <td>34000</td>\n",
       "      <td>Diesel</td>\n",
       "      <td>Manual</td>\n",
       "      <td>First</td>\n",
       "      <td>13.68 kmpl</td>\n",
       "      <td>2393 CC</td>\n",
       "      <td>147.8 bhp</td>\n",
       "      <td>7.0</td>\n",
       "      <td>25.27 Lakh</td>\n",
       "    </tr>\n",
       "    <tr>\n",
       "      <th>3</th>\n",
       "      <td>3</td>\n",
       "      <td>Toyota Etios Liva GD</td>\n",
       "      <td>Hyderabad</td>\n",
       "      <td>2012</td>\n",
       "      <td>139000</td>\n",
       "      <td>Diesel</td>\n",
       "      <td>Manual</td>\n",
       "      <td>First</td>\n",
       "      <td>23.59 kmpl</td>\n",
       "      <td>1364 CC</td>\n",
       "      <td>null bhp</td>\n",
       "      <td>5.0</td>\n",
       "      <td>NaN</td>\n",
       "    </tr>\n",
       "    <tr>\n",
       "      <th>4</th>\n",
       "      <td>4</td>\n",
       "      <td>Hyundai i20 Magna</td>\n",
       "      <td>Mumbai</td>\n",
       "      <td>2014</td>\n",
       "      <td>29000</td>\n",
       "      <td>Petrol</td>\n",
       "      <td>Manual</td>\n",
       "      <td>First</td>\n",
       "      <td>18.5 kmpl</td>\n",
       "      <td>1197 CC</td>\n",
       "      <td>82.85 bhp</td>\n",
       "      <td>5.0</td>\n",
       "      <td>NaN</td>\n",
       "    </tr>\n",
       "  </tbody>\n",
       "</table>\n",
       "</div>"
      ],
      "text/plain": [
       "   Unnamed: 0                                       Name    Location  Year  \\\n",
       "0           0                    Maruti Alto K10 LXI CNG       Delhi  2014   \n",
       "1           1              Maruti Alto 800 2016-2019 LXI  Coimbatore  2013   \n",
       "2           2  Toyota Innova Crysta Touring Sport 2.4 MT      Mumbai  2017   \n",
       "3           3                       Toyota Etios Liva GD   Hyderabad  2012   \n",
       "4           4                          Hyundai i20 Magna      Mumbai  2014   \n",
       "\n",
       "   Kilometers_Driven Fuel_Type Transmission Owner_Type      Mileage   Engine  \\\n",
       "0              40929       CNG       Manual      First  32.26 km/kg   998 CC   \n",
       "1              54493    Petrol       Manual     Second    24.7 kmpl   796 CC   \n",
       "2              34000    Diesel       Manual      First   13.68 kmpl  2393 CC   \n",
       "3             139000    Diesel       Manual      First   23.59 kmpl  1364 CC   \n",
       "4              29000    Petrol       Manual      First    18.5 kmpl  1197 CC   \n",
       "\n",
       "       Power  Seats   New_Price  \n",
       "0   58.2 bhp    4.0         NaN  \n",
       "1   47.3 bhp    5.0         NaN  \n",
       "2  147.8 bhp    7.0  25.27 Lakh  \n",
       "3   null bhp    5.0         NaN  \n",
       "4  82.85 bhp    5.0         NaN  "
      ]
     },
     "execution_count": 5,
     "metadata": {},
     "output_type": "execute_result"
    }
   ],
   "source": [
    "test.head()"
   ]
  },
  {
   "cell_type": "code",
   "execution_count": 6,
   "metadata": {
    "_cell_guid": "b996bd66-2802-4772-8adf-ef6aef97fea1",
    "_uuid": "61bd991f-e34f-4aaf-a2b8-c2c3998488f7",
    "collapsed": false,
    "execution": {
     "iopub.execute_input": "2024-07-09T09:30:12.266416Z",
     "iopub.status.busy": "2024-07-09T09:30:12.262786Z",
     "iopub.status.idle": "2024-07-09T09:30:12.274037Z",
     "shell.execute_reply": "2024-07-09T09:30:12.273318Z",
     "shell.execute_reply.started": "2024-07-09T08:55:45.826513Z"
    },
    "jupyter": {
     "outputs_hidden": false
    },
    "papermill": {
     "duration": 0.102273,
     "end_time": "2024-07-09T09:30:12.274171",
     "exception": false,
     "start_time": "2024-07-09T09:30:12.171898",
     "status": "completed"
    },
    "tags": []
   },
   "outputs": [
    {
     "name": "stdout",
     "output_type": "stream",
     "text": [
      "(6019, 14) (1234, 13)\n",
      "(6019, 13) (1234, 12)\n"
     ]
    }
   ],
   "source": [
    "print(train.shape, test.shape)\n",
    "train.drop('New_Price', axis=1, inplace=True)\n",
    "test.drop('New_Price', axis=1, inplace=True)\n",
    "print(train.shape, test.shape)"
   ]
  },
  {
   "cell_type": "markdown",
   "metadata": {
    "_cell_guid": "24bce1a1-7157-489e-bdc3-1e63ec8fff90",
    "_uuid": "7c09404d-b3a3-4941-8993-7247060d16d0",
    "papermill": {
     "duration": 0.08357,
     "end_time": "2024-07-09T09:30:12.438654",
     "exception": false,
     "start_time": "2024-07-09T09:30:12.355084",
     "status": "completed"
    },
    "tags": []
   },
   "source": [
    "# Data Cleaning and Feature Engineering"
   ]
  },
  {
   "cell_type": "code",
   "execution_count": 7,
   "metadata": {
    "_cell_guid": "fa01b90b-e0c8-4df8-b539-cb9d88cd5746",
    "_uuid": "a2007ade-96a1-4f4d-a2b8-632d1be63010",
    "collapsed": false,
    "execution": {
     "iopub.execute_input": "2024-07-09T09:30:12.615638Z",
     "iopub.status.busy": "2024-07-09T09:30:12.614171Z",
     "iopub.status.idle": "2024-07-09T09:30:12.624140Z",
     "shell.execute_reply": "2024-07-09T09:30:12.623462Z",
     "shell.execute_reply.started": "2024-07-09T08:55:45.845495Z"
    },
    "jupyter": {
     "outputs_hidden": false
    },
    "papermill": {
     "duration": 0.104975,
     "end_time": "2024-07-09T09:30:12.624296",
     "exception": false,
     "start_time": "2024-07-09T09:30:12.519321",
     "status": "completed"
    },
    "tags": []
   },
   "outputs": [
    {
     "name": "stdout",
     "output_type": "stream",
     "text": [
      "Unnamed: 0            0\n",
      "Name                  0\n",
      "Location              0\n",
      "Year                  0\n",
      "Kilometers_Driven     0\n",
      "Fuel_Type             0\n",
      "Transmission          0\n",
      "Owner_Type            0\n",
      "Mileage               2\n",
      "Engine               36\n",
      "Power                36\n",
      "Seats                42\n",
      "Price                 0\n",
      "dtype: int64\n",
      "------------------------\n",
      "Unnamed: 0            0\n",
      "Name                  0\n",
      "Location              0\n",
      "Year                  0\n",
      "Kilometers_Driven     0\n",
      "Fuel_Type             0\n",
      "Transmission          0\n",
      "Owner_Type            0\n",
      "Mileage               0\n",
      "Engine               10\n",
      "Power                10\n",
      "Seats                11\n",
      "dtype: int64\n"
     ]
    }
   ],
   "source": [
    "print(train.isnull().sum())\n",
    "print(\"------------------------\")\n",
    "print(test.isnull().sum())"
   ]
  },
  {
   "cell_type": "code",
   "execution_count": 8,
   "metadata": {
    "_cell_guid": "27bb40d2-5e84-427b-a731-80ea720b7c5c",
    "_uuid": "be34f633-7e88-449a-8da5-39a3e6a887f1",
    "collapsed": false,
    "execution": {
     "iopub.execute_input": "2024-07-09T09:30:12.812356Z",
     "iopub.status.busy": "2024-07-09T09:30:12.811171Z",
     "iopub.status.idle": "2024-07-09T09:30:12.821688Z",
     "shell.execute_reply": "2024-07-09T09:30:12.820851Z",
     "shell.execute_reply.started": "2024-07-09T08:55:45.870520Z"
    },
    "jupyter": {
     "outputs_hidden": false
    },
    "papermill": {
     "duration": 0.111788,
     "end_time": "2024-07-09T09:30:12.821837",
     "exception": false,
     "start_time": "2024-07-09T09:30:12.710049",
     "status": "completed"
    },
    "tags": []
   },
   "outputs": [
    {
     "name": "stdout",
     "output_type": "stream",
     "text": [
      "2047    1\n",
      "2720    1\n",
      "2708    1\n",
      "661     1\n",
      "4759    1\n",
      "       ..\n",
      "5436    1\n",
      "1342    1\n",
      "3391    1\n",
      "5440    1\n",
      "0       1\n",
      "Name: Unnamed: 0, Length: 6019, dtype: int64\n"
     ]
    }
   ],
   "source": [
    "print(train['Unnamed: 0'].value_counts())"
   ]
  },
  {
   "cell_type": "code",
   "execution_count": 9,
   "metadata": {
    "_cell_guid": "c877f085-d83a-4017-bf04-13ddae33ce43",
    "_uuid": "3479acec-041d-4f2d-a2b3-cf298ef627c0",
    "collapsed": false,
    "execution": {
     "iopub.execute_input": "2024-07-09T09:30:13.031325Z",
     "iopub.status.busy": "2024-07-09T09:30:13.030420Z",
     "iopub.status.idle": "2024-07-09T09:30:13.059812Z",
     "shell.execute_reply": "2024-07-09T09:30:13.059168Z",
     "shell.execute_reply.started": "2024-07-09T08:55:45.884823Z"
    },
    "jupyter": {
     "outputs_hidden": false
    },
    "papermill": {
     "duration": 0.134791,
     "end_time": "2024-07-09T09:30:13.059962",
     "exception": false,
     "start_time": "2024-07-09T09:30:12.925171",
     "status": "completed"
    },
    "tags": []
   },
   "outputs": [],
   "source": [
    "unnamed_train = list(train['Unnamed: 0'].unique())\n",
    "unnamed_test = list(test['Unnamed: 0'].unique())\n",
    "for i in unnamed_test:\n",
    "    if i not in unnamed_train:\n",
    "        print(i)"
   ]
  },
  {
   "cell_type": "markdown",
   "metadata": {
    "_cell_guid": "30ace8ff-8353-447c-82d6-97905d5df2d1",
    "_uuid": "5707c31e-3fb7-4b2d-8325-259d9741cfa0",
    "papermill": {
     "duration": 0.08582,
     "end_time": "2024-07-09T09:30:13.231764",
     "exception": false,
     "start_time": "2024-07-09T09:30:13.145944",
     "status": "completed"
    },
    "tags": []
   },
   "source": [
    "## Name"
   ]
  },
  {
   "cell_type": "code",
   "execution_count": 10,
   "metadata": {
    "_cell_guid": "1da00005-51f8-4457-9fe9-655c3a7f0ec1",
    "_uuid": "043a9c40-c77d-4bd6-8152-eeabb15787e2",
    "collapsed": false,
    "execution": {
     "iopub.execute_input": "2024-07-09T09:30:13.415787Z",
     "iopub.status.busy": "2024-07-09T09:30:13.414856Z",
     "iopub.status.idle": "2024-07-09T09:30:13.425145Z",
     "shell.execute_reply": "2024-07-09T09:30:13.425803Z",
     "shell.execute_reply.started": "2024-07-09T08:55:45.946954Z"
    },
    "jupyter": {
     "outputs_hidden": false
    },
    "papermill": {
     "duration": 0.106281,
     "end_time": "2024-07-09T09:30:13.425984",
     "exception": false,
     "start_time": "2024-07-09T09:30:13.319703",
     "status": "completed"
    },
    "tags": []
   },
   "outputs": [
    {
     "name": "stdout",
     "output_type": "stream",
     "text": [
      "Mahindra XUV500 W8 2WD              49\n",
      "Maruti Swift VDI                    45\n",
      "Honda City 1.5 S MT                 34\n",
      "Maruti Swift Dzire VDI              34\n",
      "Maruti Swift VDI BSIV               31\n",
      "                                    ..\n",
      "Mahindra Scorpio S10 7 Seater        1\n",
      "Tata New Safari DICOR 2.2 VX 4x2     1\n",
      "Mahindra Bolero mHAWK D70 ZLX        1\n",
      "Mini Clubman Cooper S                1\n",
      "BMW X3 xDrive20d Expedition          1\n",
      "Name: Name, Length: 1876, dtype: int64\n",
      "2047    1\n",
      "2720    1\n",
      "2708    1\n",
      "661     1\n",
      "4759    1\n",
      "       ..\n",
      "5436    1\n",
      "1342    1\n",
      "3391    1\n",
      "5440    1\n",
      "0       1\n",
      "Name: Unnamed: 0, Length: 6019, dtype: int64\n"
     ]
    }
   ],
   "source": [
    "print(train['Name'].value_counts())\n",
    "print(train['Unnamed: 0'].value_counts())"
   ]
  },
  {
   "cell_type": "code",
   "execution_count": 11,
   "metadata": {
    "_cell_guid": "825cc3ed-9ee6-409b-a627-4087c4d86df1",
    "_uuid": "b0c1d90f-78a2-4d12-acd0-69a24d88ae74",
    "collapsed": false,
    "execution": {
     "iopub.execute_input": "2024-07-09T09:30:13.606353Z",
     "iopub.status.busy": "2024-07-09T09:30:13.605278Z",
     "iopub.status.idle": "2024-07-09T09:30:13.609660Z",
     "shell.execute_reply": "2024-07-09T09:30:13.608918Z",
     "shell.execute_reply.started": "2024-07-09T08:55:45.966101Z"
    },
    "jupyter": {
     "outputs_hidden": false
    },
    "papermill": {
     "duration": 0.100968,
     "end_time": "2024-07-09T09:30:13.609798",
     "exception": false,
     "start_time": "2024-07-09T09:30:13.508830",
     "status": "completed"
    },
    "tags": []
   },
   "outputs": [
    {
     "name": "stdout",
     "output_type": "stream",
     "text": [
      "Maruti Alto LXi                        9\n",
      "Volkswagen Polo 1.2 MPI Highline       8\n",
      "Honda City 1.5 V MT                    8\n",
      "Maruti Swift Dzire VDI                 8\n",
      "Hyundai i10 Magna                      7\n",
      "                                      ..\n",
      "Hyundai Grand i10 CRDi Sportz          1\n",
      "BMW 5 Series 530i Sport Line           1\n",
      "Honda WRV i-DTEC VX                    1\n",
      "Volkswagen Polo 1.5 TDI Comfortline    1\n",
      "Skoda Laura Ambiente 2.0 TDI CR AT     1\n",
      "Name: Name, Length: 768, dtype: int64\n"
     ]
    }
   ],
   "source": [
    "print(test['Name'].value_counts())"
   ]
  },
  {
   "cell_type": "code",
   "execution_count": 12,
   "metadata": {
    "_cell_guid": "199ce1c3-50b3-4825-a3ad-cd5e65246f31",
    "_uuid": "618b4b95-1a90-455f-b396-bab3241bad14",
    "collapsed": false,
    "execution": {
     "iopub.execute_input": "2024-07-09T09:30:13.788166Z",
     "iopub.status.busy": "2024-07-09T09:30:13.787285Z",
     "iopub.status.idle": "2024-07-09T09:30:13.792726Z",
     "shell.execute_reply": "2024-07-09T09:30:13.792076Z",
     "shell.execute_reply.started": "2024-07-09T08:55:45.979754Z"
    },
    "jupyter": {
     "outputs_hidden": false
    },
    "papermill": {
     "duration": 0.100112,
     "end_time": "2024-07-09T09:30:13.792887",
     "exception": false,
     "start_time": "2024-07-09T09:30:13.692775",
     "status": "completed"
    },
    "tags": []
   },
   "outputs": [
    {
     "name": "stdout",
     "output_type": "stream",
     "text": [
      "Maruti Alto LXi                        9\n",
      "Volkswagen Polo 1.2 MPI Highline       8\n",
      "Honda City 1.5 V MT                    8\n",
      "Maruti Swift Dzire VDI                 8\n",
      "Hyundai i10 Magna                      7\n",
      "                                      ..\n",
      "Hyundai Grand i10 CRDi Sportz          1\n",
      "BMW 5 Series 530i Sport Line           1\n",
      "Honda WRV i-DTEC VX                    1\n",
      "Volkswagen Polo 1.5 TDI Comfortline    1\n",
      "Skoda Laura Ambiente 2.0 TDI CR AT     1\n",
      "Name: Name, Length: 768, dtype: int64\n"
     ]
    }
   ],
   "source": [
    "print(test['Name'].value_counts())"
   ]
  },
  {
   "cell_type": "code",
   "execution_count": 13,
   "metadata": {
    "_cell_guid": "d3dcd0ab-4f38-4fc9-aace-c2da25393074",
    "_uuid": "b3cf7ba4-840e-457f-a49c-82a2d8d4256f",
    "collapsed": false,
    "execution": {
     "iopub.execute_input": "2024-07-09T09:30:13.975393Z",
     "iopub.status.busy": "2024-07-09T09:30:13.974585Z",
     "iopub.status.idle": "2024-07-09T09:30:13.978228Z",
     "shell.execute_reply": "2024-07-09T09:30:13.978967Z",
     "shell.execute_reply.started": "2024-07-09T08:55:46.038558Z"
    },
    "jupyter": {
     "outputs_hidden": false
    },
    "papermill": {
     "duration": 0.098532,
     "end_time": "2024-07-09T09:30:13.979145",
     "exception": false,
     "start_time": "2024-07-09T09:30:13.880613",
     "status": "completed"
    },
    "tags": []
   },
   "outputs": [
    {
     "name": "stdout",
     "output_type": "stream",
     "text": [
      "(6019, 13) (1234, 12)\n",
      "(6019, 12) (1234, 11)\n"
     ]
    }
   ],
   "source": [
    "print(train.shape, test.shape)\n",
    "train.drop('Name', axis=1, inplace=True)\n",
    "test.drop('Name', axis=1, inplace=True)\n",
    "print(train.shape, test.shape)"
   ]
  },
  {
   "cell_type": "markdown",
   "metadata": {
    "_cell_guid": "b070b175-c3af-4e1c-8fa7-be8bf5c2b382",
    "_uuid": "89b3dd1b-a9a7-4913-9e44-cb73b507bf87",
    "papermill": {
     "duration": 0.082628,
     "end_time": "2024-07-09T09:30:14.145318",
     "exception": false,
     "start_time": "2024-07-09T09:30:14.062690",
     "status": "completed"
    },
    "tags": []
   },
   "source": [
    "## Location"
   ]
  },
  {
   "cell_type": "code",
   "execution_count": 14,
   "metadata": {
    "_cell_guid": "e6ed09e9-1904-42e1-b2f5-f3ac885a127c",
    "_uuid": "843ba56b-ba9d-4858-8225-0723b7017450",
    "collapsed": false,
    "execution": {
     "iopub.execute_input": "2024-07-09T09:30:14.343687Z",
     "iopub.status.busy": "2024-07-09T09:30:14.342452Z",
     "iopub.status.idle": "2024-07-09T09:30:14.349389Z",
     "shell.execute_reply": "2024-07-09T09:30:14.348409Z",
     "shell.execute_reply.started": "2024-07-09T08:55:46.052598Z"
    },
    "jupyter": {
     "outputs_hidden": false
    },
    "papermill": {
     "duration": 0.11137,
     "end_time": "2024-07-09T09:30:14.349620",
     "exception": false,
     "start_time": "2024-07-09T09:30:14.238250",
     "status": "completed"
    },
    "tags": []
   },
   "outputs": [
    {
     "data": {
      "text/plain": [
       "0         Mumbai\n",
       "1           Pune\n",
       "2        Chennai\n",
       "3        Chennai\n",
       "4     Coimbatore\n",
       "5      Hyderabad\n",
       "6         Jaipur\n",
       "7         Mumbai\n",
       "8           Pune\n",
       "9        Chennai\n",
       "10         Kochi\n",
       "11       Kolkata\n",
       "12        Jaipur\n",
       "13         Delhi\n",
       "14          Pune\n",
       "15         Delhi\n",
       "16         Kochi\n",
       "17        Jaipur\n",
       "18         Kochi\n",
       "19     Bangalore\n",
       "Name: Location, dtype: object"
      ]
     },
     "execution_count": 14,
     "metadata": {},
     "output_type": "execute_result"
    }
   ],
   "source": [
    "train['Location'][:20]"
   ]
  },
  {
   "cell_type": "code",
   "execution_count": 15,
   "metadata": {
    "_cell_guid": "4c152e39-48f4-4859-9817-2bacdcf23b53",
    "_uuid": "7d59bd0a-8cc9-423c-90e7-bba54bebac16",
    "collapsed": false,
    "execution": {
     "iopub.execute_input": "2024-07-09T09:30:14.543174Z",
     "iopub.status.busy": "2024-07-09T09:30:14.542127Z",
     "iopub.status.idle": "2024-07-09T09:30:14.547846Z",
     "shell.execute_reply": "2024-07-09T09:30:14.547060Z",
     "shell.execute_reply.started": "2024-07-09T08:55:46.069066Z"
    },
    "jupyter": {
     "outputs_hidden": false
    },
    "papermill": {
     "duration": 0.10753,
     "end_time": "2024-07-09T09:30:14.548002",
     "exception": false,
     "start_time": "2024-07-09T09:30:14.440472",
     "status": "completed"
    },
    "tags": []
   },
   "outputs": [
    {
     "data": {
      "text/plain": [
       "Mumbai        790\n",
       "Hyderabad     742\n",
       "Kochi         651\n",
       "Coimbatore    636\n",
       "Pune          622\n",
       "Delhi         554\n",
       "Kolkata       535\n",
       "Chennai       494\n",
       "Jaipur        413\n",
       "Bangalore     358\n",
       "Ahmedabad     224\n",
       "Name: Location, dtype: int64"
      ]
     },
     "execution_count": 15,
     "metadata": {},
     "output_type": "execute_result"
    }
   ],
   "source": [
    "train['Location'].value_counts()"
   ]
  },
  {
   "cell_type": "code",
   "execution_count": 16,
   "metadata": {
    "_cell_guid": "25fae8b0-664d-4508-97d1-c0d0c010e60b",
    "_uuid": "6b8cb430-4b16-4e29-b5cf-4f1f3ede6e5a",
    "collapsed": false,
    "execution": {
     "iopub.execute_input": "2024-07-09T09:30:14.774917Z",
     "iopub.status.busy": "2024-07-09T09:30:14.773918Z",
     "iopub.status.idle": "2024-07-09T09:30:14.778832Z",
     "shell.execute_reply": "2024-07-09T09:30:14.778142Z",
     "shell.execute_reply.started": "2024-07-09T08:55:46.089681Z"
    },
    "jupyter": {
     "outputs_hidden": false
    },
    "papermill": {
     "duration": 0.130455,
     "end_time": "2024-07-09T09:30:14.778981",
     "exception": false,
     "start_time": "2024-07-09T09:30:14.648526",
     "status": "completed"
    },
    "tags": []
   },
   "outputs": [
    {
     "data": {
      "text/plain": [
       "Mumbai        159\n",
       "Pune          143\n",
       "Coimbatore    136\n",
       "Hyderabad     134\n",
       "Kochi         121\n",
       "Kolkata       119\n",
       "Delhi         106\n",
       "Chennai        97\n",
       "Jaipur         86\n",
       "Bangalore      82\n",
       "Ahmedabad      51\n",
       "Name: Location, dtype: int64"
      ]
     },
     "execution_count": 16,
     "metadata": {},
     "output_type": "execute_result"
    }
   ],
   "source": [
    "test['Location'].value_counts()"
   ]
  },
  {
   "cell_type": "markdown",
   "metadata": {
    "_cell_guid": "354ab459-e897-4293-8fa3-714ce0781180",
    "_uuid": "5879b408-2274-43be-be78-722cf8132735",
    "papermill": {
     "duration": 0.088225,
     "end_time": "2024-07-09T09:30:14.955424",
     "exception": false,
     "start_time": "2024-07-09T09:30:14.867199",
     "status": "completed"
    },
    "tags": []
   },
   "source": [
    "## Kilometers_Driven"
   ]
  },
  {
   "cell_type": "code",
   "execution_count": 17,
   "metadata": {
    "_cell_guid": "1a8581db-7002-475d-9a18-e8949fddea72",
    "_uuid": "892f28d3-edf5-47ee-b362-ef57ad135652",
    "collapsed": false,
    "execution": {
     "iopub.execute_input": "2024-07-09T09:30:15.135534Z",
     "iopub.status.busy": "2024-07-09T09:30:15.134730Z",
     "iopub.status.idle": "2024-07-09T09:30:15.343467Z",
     "shell.execute_reply": "2024-07-09T09:30:15.342555Z",
     "shell.execute_reply.started": "2024-07-09T08:55:46.205074Z"
    },
    "jupyter": {
     "outputs_hidden": false
    },
    "papermill": {
     "duration": 0.301212,
     "end_time": "2024-07-09T09:30:15.343680",
     "exception": false,
     "start_time": "2024-07-09T09:30:15.042468",
     "status": "completed"
    },
    "tags": []
   },
   "outputs": [
    {
     "data": {
      "image/png": "[encoded data removed]",
      "text/plain": [
       "<Figure size 576x432 with 1 Axes>"
      ]
     },
     "metadata": {
      "needs_background": "light"
     },
     "output_type": "display_data"
    }
   ],
   "source": [
    "plt.figure(figsize=(8, 6))\n",
    "sns.boxplot(train['Kilometers_Driven'])\n",
    "plt.show()"
   ]
  },
  {
   "cell_type": "code",
   "execution_count": 18,
   "metadata": {
    "_cell_guid": "e6255f32-fb62-407a-9801-1fb015e1b67a",
    "_uuid": "d5ed7228-07e3-42c5-aca4-aba4dbde09e7",
    "collapsed": false,
    "execution": {
     "iopub.execute_input": "2024-07-09T09:30:15.541276Z",
     "iopub.status.busy": "2024-07-09T09:30:15.540170Z",
     "iopub.status.idle": "2024-07-09T09:30:15.545767Z",
     "shell.execute_reply": "2024-07-09T09:30:15.544913Z",
     "shell.execute_reply.started": "2024-07-09T08:55:46.404455Z"
    },
    "jupyter": {
     "outputs_hidden": false
    },
    "papermill": {
     "duration": 0.108167,
     "end_time": "2024-07-09T09:30:15.545914",
     "exception": false,
     "start_time": "2024-07-09T09:30:15.437747",
     "status": "completed"
    },
    "tags": []
   },
   "outputs": [
    {
     "data": {
      "text/html": [
       "<div>\n",
       "<style scoped>\n",
       "    .dataframe tbody tr th:only-of-type {\n",
       "        vertical-align: middle;\n",
       "    }\n",
       "\n",
       "    .dataframe tbody tr th {\n",
       "        vertical-align: top;\n",
       "    }\n",
       "\n",
       "    .dataframe thead th {\n",
       "        text-align: right;\n",
       "    }\n",
       "</style>\n",
       "<table border=\"1\" class=\"dataframe\">\n",
       "  <thead>\n",
       "    <tr style=\"text-align: right;\">\n",
       "      <th></th>\n",
       "      <th>Unnamed: 0</th>\n",
       "      <th>Location</th>\n",
       "      <th>Year</th>\n",
       "      <th>Kilometers_Driven</th>\n",
       "      <th>Fuel_Type</th>\n",
       "      <th>Transmission</th>\n",
       "      <th>Owner_Type</th>\n",
       "      <th>Mileage</th>\n",
       "      <th>Engine</th>\n",
       "      <th>Power</th>\n",
       "      <th>Seats</th>\n",
       "    </tr>\n",
       "  </thead>\n",
       "  <tbody>\n",
       "  </tbody>\n",
       "</table>\n",
       "</div>"
      ],
      "text/plain": [
       "Empty DataFrame\n",
       "Columns: [Unnamed: 0, Location, Year, Kilometers_Driven, Fuel_Type, Transmission, Owner_Type, Mileage, Engine, Power, Seats]\n",
       "Index: []"
      ]
     },
     "execution_count": 18,
     "metadata": {},
     "output_type": "execute_result"
    }
   ],
   "source": [
    "temp2 = test[test['Kilometers_Driven'] > 400000]\n",
    "temp2"
   ]
  },
  {
   "cell_type": "code",
   "execution_count": 19,
   "metadata": {
    "_cell_guid": "73c7836f-e888-4078-8f41-d7e5e8e83767",
    "_uuid": "2e8c5f97-2d69-4dd0-b42d-32f146a1c226",
    "collapsed": false,
    "execution": {
     "iopub.execute_input": "2024-07-09T09:30:15.728396Z",
     "iopub.status.busy": "2024-07-09T09:30:15.727569Z",
     "iopub.status.idle": "2024-07-09T09:30:15.734297Z",
     "shell.execute_reply": "2024-07-09T09:30:15.733653Z",
     "shell.execute_reply.started": "2024-07-09T08:55:46.552113Z"
    },
    "jupyter": {
     "outputs_hidden": false
    },
    "papermill": {
     "duration": 0.101401,
     "end_time": "2024-07-09T09:30:15.734448",
     "exception": false,
     "start_time": "2024-07-09T09:30:15.633047",
     "status": "completed"
    },
    "tags": []
   },
   "outputs": [
    {
     "name": "stdout",
     "output_type": "stream",
     "text": [
      "(6019, 12)\n",
      "(6012, 12)\n"
     ]
    }
   ],
   "source": [
    "print(train.shape)\n",
    "temp = train[train['Kilometers_Driven'] > 400000].index\n",
    "train.drop(temp, axis=0, inplace=True)\n",
    "print(train.shape)"
   ]
  },
  {
   "cell_type": "markdown",
   "metadata": {
    "_cell_guid": "f64a5f1f-a3b6-49ea-ac8e-a0db545e692d",
    "_uuid": "29240c8e-7e5f-4aab-a292-0c9a135cd462",
    "papermill": {
     "duration": 0.092045,
     "end_time": "2024-07-09T09:30:15.915478",
     "exception": false,
     "start_time": "2024-07-09T09:30:15.823433",
     "status": "completed"
    },
    "tags": []
   },
   "source": [
    "## Fuel Type"
   ]
  },
  {
   "cell_type": "code",
   "execution_count": 20,
   "metadata": {
    "_cell_guid": "37f3558b-1c52-48f7-a243-12ad80a63c09",
    "_uuid": "49b75b39-9f64-4ddd-98b8-2dac1bbbc80c",
    "collapsed": false,
    "execution": {
     "iopub.execute_input": "2024-07-09T09:30:16.095691Z",
     "iopub.status.busy": "2024-07-09T09:30:16.094755Z",
     "iopub.status.idle": "2024-07-09T09:30:16.099281Z",
     "shell.execute_reply": "2024-07-09T09:30:16.098704Z",
     "shell.execute_reply.started": "2024-07-09T08:55:46.886736Z"
    },
    "jupyter": {
     "outputs_hidden": false
    },
    "papermill": {
     "duration": 0.097716,
     "end_time": "2024-07-09T09:30:16.099426",
     "exception": false,
     "start_time": "2024-07-09T09:30:16.001710",
     "status": "completed"
    },
    "tags": []
   },
   "outputs": [
    {
     "data": {
      "text/plain": [
       "0        CNG\n",
       "1     Diesel\n",
       "2     Petrol\n",
       "3     Diesel\n",
       "4     Diesel\n",
       "5        LPG\n",
       "6     Diesel\n",
       "7     Diesel\n",
       "8     Diesel\n",
       "9     Diesel\n",
       "10    Petrol\n",
       "11    Petrol\n",
       "12    Diesel\n",
       "13    Diesel\n",
       "14    Diesel\n",
       "15    Diesel\n",
       "16    Diesel\n",
       "17    Diesel\n",
       "18    Diesel\n",
       "19    Diesel\n",
       "Name: Fuel_Type, dtype: object"
      ]
     },
     "execution_count": 20,
     "metadata": {},
     "output_type": "execute_result"
    }
   ],
   "source": [
    "train['Fuel_Type'][:20]"
   ]
  },
  {
   "cell_type": "code",
   "execution_count": 21,
   "metadata": {
    "_cell_guid": "3ec34c9a-9cae-40b7-bf15-f43260a74229",
    "_uuid": "05ba1f30-637d-4531-928d-6b05edd98e10",
    "collapsed": false,
    "execution": {
     "iopub.execute_input": "2024-07-09T09:30:16.279405Z",
     "iopub.status.busy": "2024-07-09T09:30:16.278486Z",
     "iopub.status.idle": "2024-07-09T09:30:16.283030Z",
     "shell.execute_reply": "2024-07-09T09:30:16.282307Z",
     "shell.execute_reply.started": "2024-07-09T08:55:47.206869Z"
    },
    "jupyter": {
     "outputs_hidden": false
    },
    "papermill": {
     "duration": 0.098455,
     "end_time": "2024-07-09T09:30:16.283163",
     "exception": false,
     "start_time": "2024-07-09T09:30:16.184708",
     "status": "completed"
    },
    "tags": []
   },
   "outputs": [
    {
     "data": {
      "text/plain": [
       "Diesel      3201\n",
       "Petrol      2743\n",
       "CNG           56\n",
       "LPG           10\n",
       "Electric       2\n",
       "Name: Fuel_Type, dtype: int64"
      ]
     },
     "execution_count": 21,
     "metadata": {},
     "output_type": "execute_result"
    }
   ],
   "source": [
    "train['Fuel_Type'].value_counts()"
   ]
  },
  {
   "cell_type": "code",
   "execution_count": 22,
   "metadata": {
    "_cell_guid": "07563b32-8bfa-4c28-9ba6-7bcee3da0164",
    "_uuid": "d419a6a3-e167-4f59-96de-d91fb358b0a1",
    "collapsed": false,
    "execution": {
     "iopub.execute_input": "2024-07-09T09:30:16.474749Z",
     "iopub.status.busy": "2024-07-09T09:30:16.473670Z",
     "iopub.status.idle": "2024-07-09T09:30:16.478429Z",
     "shell.execute_reply": "2024-07-09T09:30:16.477854Z",
     "shell.execute_reply.started": "2024-07-09T08:55:47.286092Z"
    },
    "jupyter": {
     "outputs_hidden": false
    },
    "papermill": {
     "duration": 0.105597,
     "end_time": "2024-07-09T09:30:16.478577",
     "exception": false,
     "start_time": "2024-07-09T09:30:16.372980",
     "status": "completed"
    },
    "tags": []
   },
   "outputs": [
    {
     "data": {
      "text/plain": [
       "Diesel    647\n",
       "Petrol    579\n",
       "CNG         6\n",
       "LPG         2\n",
       "Name: Fuel_Type, dtype: int64"
      ]
     },
     "execution_count": 22,
     "metadata": {},
     "output_type": "execute_result"
    }
   ],
   "source": [
    "test['Fuel_Type'].value_counts()"
   ]
  },
  {
   "cell_type": "markdown",
   "metadata": {
    "_cell_guid": "1817e7fc-0e97-40dc-a97b-c25b42bc9750",
    "_uuid": "9cb78923-f8a2-477d-9bc5-afe6d041e6d7",
    "papermill": {
     "duration": 0.088569,
     "end_time": "2024-07-09T09:30:16.655993",
     "exception": false,
     "start_time": "2024-07-09T09:30:16.567424",
     "status": "completed"
    },
    "tags": []
   },
   "source": [
    "## Transmission"
   ]
  },
  {
   "cell_type": "code",
   "execution_count": 23,
   "metadata": {
    "_cell_guid": "1f8d38f6-d28c-4aeb-b59a-97abc067ccc2",
    "_uuid": "b5aa44c1-d411-4dd2-8bda-8966b27a8ab6",
    "collapsed": false,
    "execution": {
     "iopub.execute_input": "2024-07-09T09:30:16.836927Z",
     "iopub.status.busy": "2024-07-09T09:30:16.835763Z",
     "iopub.status.idle": "2024-07-09T09:30:16.840968Z",
     "shell.execute_reply": "2024-07-09T09:30:16.840186Z",
     "shell.execute_reply.started": "2024-07-09T08:55:47.727383Z"
    },
    "jupyter": {
     "outputs_hidden": false
    },
    "papermill": {
     "duration": 0.098709,
     "end_time": "2024-07-09T09:30:16.841118",
     "exception": false,
     "start_time": "2024-07-09T09:30:16.742409",
     "status": "completed"
    },
    "tags": []
   },
   "outputs": [
    {
     "data": {
      "text/plain": [
       "0        Manual\n",
       "1        Manual\n",
       "2        Manual\n",
       "3        Manual\n",
       "4     Automatic\n",
       "5        Manual\n",
       "6        Manual\n",
       "7     Automatic\n",
       "8        Manual\n",
       "9        Manual\n",
       "10       Manual\n",
       "11    Automatic\n",
       "12       Manual\n",
       "13    Automatic\n",
       "14    Automatic\n",
       "15       Manual\n",
       "16       Manual\n",
       "17       Manual\n",
       "18       Manual\n",
       "19    Automatic\n",
       "Name: Transmission, dtype: object"
      ]
     },
     "execution_count": 23,
     "metadata": {},
     "output_type": "execute_result"
    }
   ],
   "source": [
    "train['Transmission'][:20]"
   ]
  },
  {
   "cell_type": "code",
   "execution_count": 24,
   "metadata": {
    "_cell_guid": "896f270a-d5c5-4397-ad2f-0a3e544ed445",
    "_uuid": "221e9f2f-458c-464c-b957-3faf1da0e78b",
    "collapsed": false,
    "execution": {
     "iopub.execute_input": "2024-07-09T09:30:17.032678Z",
     "iopub.status.busy": "2024-07-09T09:30:17.031777Z",
     "iopub.status.idle": "2024-07-09T09:30:17.037516Z",
     "shell.execute_reply": "2024-07-09T09:30:17.036443Z",
     "shell.execute_reply.started": "2024-07-09T08:55:47.809812Z"
    },
    "jupyter": {
     "outputs_hidden": false
    },
    "papermill": {
     "duration": 0.104798,
     "end_time": "2024-07-09T09:30:17.037704",
     "exception": false,
     "start_time": "2024-07-09T09:30:16.932906",
     "status": "completed"
    },
    "tags": []
   },
   "outputs": [
    {
     "data": {
      "text/plain": [
       "Manual       4295\n",
       "Automatic    1717\n",
       "Name: Transmission, dtype: int64"
      ]
     },
     "execution_count": 24,
     "metadata": {},
     "output_type": "execute_result"
    }
   ],
   "source": [
    "train['Transmission'].value_counts()"
   ]
  },
  {
   "cell_type": "code",
   "execution_count": 25,
   "metadata": {
    "_cell_guid": "8b86b619-d8ee-431f-b802-270dac371c68",
    "_uuid": "5db555f1-eba2-41cf-af78-bf81d059666f",
    "collapsed": false,
    "execution": {
     "iopub.execute_input": "2024-07-09T09:30:17.223928Z",
     "iopub.status.busy": "2024-07-09T09:30:17.223064Z",
     "iopub.status.idle": "2024-07-09T09:30:17.227217Z",
     "shell.execute_reply": "2024-07-09T09:30:17.226652Z",
     "shell.execute_reply.started": "2024-07-09T08:55:47.984715Z"
    },
    "jupyter": {
     "outputs_hidden": false
    },
    "papermill": {
     "duration": 0.101449,
     "end_time": "2024-07-09T09:30:17.227346",
     "exception": false,
     "start_time": "2024-07-09T09:30:17.125897",
     "status": "completed"
    },
    "tags": []
   },
   "outputs": [
    {
     "data": {
      "text/plain": [
       "Manual       905\n",
       "Automatic    329\n",
       "Name: Transmission, dtype: int64"
      ]
     },
     "execution_count": 25,
     "metadata": {},
     "output_type": "execute_result"
    }
   ],
   "source": [
    "test['Transmission'].value_counts()"
   ]
  },
  {
   "cell_type": "markdown",
   "metadata": {
    "_cell_guid": "98a4a5c3-676e-4401-9f6c-f55db1e9e27b",
    "_uuid": "7a25a1e7-5e80-40b0-83f0-9a78d943c4ce",
    "papermill": {
     "duration": 0.087805,
     "end_time": "2024-07-09T09:30:17.403938",
     "exception": false,
     "start_time": "2024-07-09T09:30:17.316133",
     "status": "completed"
    },
    "tags": []
   },
   "source": [
    "## Owner_Type"
   ]
  },
  {
   "cell_type": "code",
   "execution_count": 26,
   "metadata": {
    "_cell_guid": "77c5c098-ad48-42db-9772-9ef4ebc3dac4",
    "_uuid": "bf50e423-9582-4215-bc3f-fb508a5dca90",
    "collapsed": false,
    "execution": {
     "iopub.execute_input": "2024-07-09T09:30:17.589780Z",
     "iopub.status.busy": "2024-07-09T09:30:17.588656Z",
     "iopub.status.idle": "2024-07-09T09:30:17.594362Z",
     "shell.execute_reply": "2024-07-09T09:30:17.593633Z",
     "shell.execute_reply.started": "2024-07-09T08:55:48.346327Z"
    },
    "jupyter": {
     "outputs_hidden": false
    },
    "papermill": {
     "duration": 0.103586,
     "end_time": "2024-07-09T09:30:17.594511",
     "exception": false,
     "start_time": "2024-07-09T09:30:17.490925",
     "status": "completed"
    },
    "tags": []
   },
   "outputs": [
    {
     "data": {
      "text/plain": [
       "0      First\n",
       "1      First\n",
       "2      First\n",
       "3      First\n",
       "4     Second\n",
       "5      First\n",
       "6      First\n",
       "7      First\n",
       "8      First\n",
       "9     Second\n",
       "10     First\n",
       "11     First\n",
       "12     First\n",
       "13     First\n",
       "14    Second\n",
       "15     First\n",
       "16     First\n",
       "17     First\n",
       "18     First\n",
       "19     First\n",
       "Name: Owner_Type, dtype: object"
      ]
     },
     "execution_count": 26,
     "metadata": {},
     "output_type": "execute_result"
    }
   ],
   "source": [
    "train['Owner_Type'][:20]"
   ]
  },
  {
   "cell_type": "code",
   "execution_count": 27,
   "metadata": {
    "_cell_guid": "2c54194b-27c9-4977-a61e-3e967e385ca6",
    "_uuid": "180a8866-7f00-4d9b-8343-e152997d7abd",
    "collapsed": false,
    "execution": {
     "iopub.execute_input": "2024-07-09T09:30:17.782774Z",
     "iopub.status.busy": "2024-07-09T09:30:17.781734Z",
     "iopub.status.idle": "2024-07-09T09:30:17.786635Z",
     "shell.execute_reply": "2024-07-09T09:30:17.785893Z",
     "shell.execute_reply.started": "2024-07-09T08:55:48.522353Z"
    },
    "jupyter": {
     "outputs_hidden": false
    },
    "papermill": {
     "duration": 0.102434,
     "end_time": "2024-07-09T09:30:17.786801",
     "exception": false,
     "start_time": "2024-07-09T09:30:17.684367",
     "status": "completed"
    },
    "tags": []
   },
   "outputs": [
    {
     "data": {
      "text/plain": [
       "First             4922\n",
       "Second             968\n",
       "Third              113\n",
       "Fourth & Above       9\n",
       "Name: Owner_Type, dtype: int64"
      ]
     },
     "execution_count": 27,
     "metadata": {},
     "output_type": "execute_result"
    }
   ],
   "source": [
    "train['Owner_Type'].value_counts()"
   ]
  },
  {
   "cell_type": "code",
   "execution_count": 28,
   "metadata": {
    "_cell_guid": "d2a06645-e111-4f30-9cd8-c840e352d003",
    "_uuid": "46e60c8d-e4a9-4c44-9cd3-44c8306647ba",
    "collapsed": false,
    "execution": {
     "iopub.execute_input": "2024-07-09T09:30:17.979937Z",
     "iopub.status.busy": "2024-07-09T09:30:17.979009Z",
     "iopub.status.idle": "2024-07-09T09:30:17.983665Z",
     "shell.execute_reply": "2024-07-09T09:30:17.982889Z",
     "shell.execute_reply.started": "2024-07-09T08:55:48.689036Z"
    },
    "jupyter": {
     "outputs_hidden": false
    },
    "papermill": {
     "duration": 0.103111,
     "end_time": "2024-07-09T09:30:17.983802",
     "exception": false,
     "start_time": "2024-07-09T09:30:17.880691",
     "status": "completed"
    },
    "tags": []
   },
   "outputs": [
    {
     "data": {
      "text/plain": [
       "First             1023\n",
       "Second             184\n",
       "Third               24\n",
       "Fourth & Above       3\n",
       "Name: Owner_Type, dtype: int64"
      ]
     },
     "execution_count": 28,
     "metadata": {},
     "output_type": "execute_result"
    }
   ],
   "source": [
    "test['Owner_Type'].value_counts()"
   ]
  },
  {
   "cell_type": "markdown",
   "metadata": {
    "_cell_guid": "ed043945-b978-4a00-a661-0821653c39a1",
    "_uuid": "bfdc0721-e3d5-4be5-a23e-37392b056fb5",
    "papermill": {
     "duration": 0.08924,
     "end_time": "2024-07-09T09:30:18.162885",
     "exception": false,
     "start_time": "2024-07-09T09:30:18.073645",
     "status": "completed"
    },
    "tags": []
   },
   "source": [
    "## Mileage"
   ]
  },
  {
   "cell_type": "code",
   "execution_count": 29,
   "metadata": {
    "_cell_guid": "ea7be036-d062-4720-b1ab-2cdb7c0e672c",
    "_uuid": "e5f9907d-7b77-434c-9e2f-e36e7bd6015b",
    "collapsed": false,
    "execution": {
     "iopub.execute_input": "2024-07-09T09:30:18.348369Z",
     "iopub.status.busy": "2024-07-09T09:30:18.347532Z",
     "iopub.status.idle": "2024-07-09T09:30:18.352066Z",
     "shell.execute_reply": "2024-07-09T09:30:18.351387Z",
     "shell.execute_reply.started": "2024-07-09T08:55:49.026414Z"
    },
    "jupyter": {
     "outputs_hidden": false
    },
    "papermill": {
     "duration": 0.100439,
     "end_time": "2024-07-09T09:30:18.352193",
     "exception": false,
     "start_time": "2024-07-09T09:30:18.251754",
     "status": "completed"
    },
    "tags": []
   },
   "outputs": [
    {
     "data": {
      "text/plain": [
       "0     26.6 km/kg\n",
       "1     19.67 kmpl\n",
       "2      18.2 kmpl\n",
       "3     20.77 kmpl\n",
       "4      15.2 kmpl\n",
       "5     21.1 km/kg\n",
       "6     23.08 kmpl\n",
       "7     11.36 kmpl\n",
       "8     20.54 kmpl\n",
       "9      22.3 kmpl\n",
       "10    21.56 kmpl\n",
       "11     16.8 kmpl\n",
       "12     25.2 kmpl\n",
       "13     12.7 kmpl\n",
       "14      0.0 kmpl\n",
       "15     13.5 kmpl\n",
       "16     25.8 kmpl\n",
       "17     28.4 kmpl\n",
       "18    20.45 kmpl\n",
       "19    14.84 kmpl\n",
       "Name: Mileage, dtype: object"
      ]
     },
     "execution_count": 29,
     "metadata": {},
     "output_type": "execute_result"
    }
   ],
   "source": [
    "train['Mileage'][:20]"
   ]
  },
  {
   "cell_type": "markdown",
   "metadata": {
    "_cell_guid": "10a978d2-4aa4-4e61-bff9-17383a52dd46",
    "_uuid": "18b49429-1690-424e-9fa1-33a3469fcb11",
    "papermill": {
     "duration": 0.090261,
     "end_time": "2024-07-09T09:30:18.532284",
     "exception": false,
     "start_time": "2024-07-09T09:30:18.442023",
     "status": "completed"
    },
    "tags": []
   },
   "source": [
    "- km/kg: Kilometers per Kilogram\n",
    "- kmpl: Kilometers per Litre"
   ]
  },
  {
   "cell_type": "code",
   "execution_count": 30,
   "metadata": {
    "_cell_guid": "a1adcb66-2b7d-4788-826f-b0c8cb3ad50c",
    "_uuid": "8508bf01-536b-460f-affc-6c788941503e",
    "collapsed": false,
    "execution": {
     "iopub.execute_input": "2024-07-09T09:30:18.721779Z",
     "iopub.status.busy": "2024-07-09T09:30:18.720867Z",
     "iopub.status.idle": "2024-07-09T09:30:18.725231Z",
     "shell.execute_reply": "2024-07-09T09:30:18.724561Z",
     "shell.execute_reply.started": "2024-07-09T08:55:49.380931Z"
    },
    "jupyter": {
     "outputs_hidden": false
    },
    "papermill": {
     "duration": 0.102116,
     "end_time": "2024-07-09T09:30:18.725357",
     "exception": false,
     "start_time": "2024-07-09T09:30:18.623241",
     "status": "completed"
    },
    "tags": []
   },
   "outputs": [
    {
     "data": {
      "text/plain": [
       "18.9 kmpl     172\n",
       "17.0 kmpl     172\n",
       "18.6 kmpl     119\n",
       "20.36 kmpl     87\n",
       "21.1 kmpl      86\n",
       "             ... \n",
       "7.5 kmpl        1\n",
       "26.8 kmpl       1\n",
       "23.03 kmpl      1\n",
       "25.01 kmpl      1\n",
       "14.47 kmpl      1\n",
       "Name: Mileage, Length: 443, dtype: int64"
      ]
     },
     "execution_count": 30,
     "metadata": {},
     "output_type": "execute_result"
    }
   ],
   "source": [
    "train['Mileage'].value_counts(dropna=False)"
   ]
  },
  {
   "cell_type": "code",
   "execution_count": 31,
   "metadata": {
    "_cell_guid": "8200b0bc-5e71-4b2f-afad-d699dafa44f5",
    "_uuid": "4cd35983-eb79-400d-b4cf-49838faca178",
    "collapsed": false,
    "execution": {
     "iopub.execute_input": "2024-07-09T09:30:18.913087Z",
     "iopub.status.busy": "2024-07-09T09:30:18.912158Z",
     "iopub.status.idle": "2024-07-09T09:30:18.915412Z",
     "shell.execute_reply": "2024-07-09T09:30:18.914857Z",
     "shell.execute_reply.started": "2024-07-09T08:55:49.578882Z"
    },
    "jupyter": {
     "outputs_hidden": false
    },
    "papermill": {
     "duration": 0.100387,
     "end_time": "2024-07-09T09:30:18.915594",
     "exception": false,
     "start_time": "2024-07-09T09:30:18.815207",
     "status": "completed"
    },
    "tags": []
   },
   "outputs": [],
   "source": [
    "# Null Values\n",
    "train['Mileage'] = train['Mileage'].fillna('17.0 kmpl')"
   ]
  },
  {
   "cell_type": "code",
   "execution_count": 32,
   "metadata": {
    "_cell_guid": "a818de5c-f829-4ae3-9612-59ae3ad5bc2e",
    "_uuid": "a4b1f62c-8da1-4b2f-8e0e-6c4e8d81cf4b",
    "collapsed": false,
    "execution": {
     "iopub.execute_input": "2024-07-09T09:30:19.099680Z",
     "iopub.status.busy": "2024-07-09T09:30:19.098786Z",
     "iopub.status.idle": "2024-07-09T09:30:19.103200Z",
     "shell.execute_reply": "2024-07-09T09:30:19.102630Z",
     "shell.execute_reply.started": "2024-07-09T08:55:49.739084Z"
    },
    "jupyter": {
     "outputs_hidden": false
    },
    "papermill": {
     "duration": 0.099431,
     "end_time": "2024-07-09T09:30:19.103340",
     "exception": false,
     "start_time": "2024-07-09T09:30:19.003909",
     "status": "completed"
    },
    "tags": []
   },
   "outputs": [
    {
     "data": {
      "text/plain": [
       "('26.6', 'km/kg')"
      ]
     },
     "execution_count": 32,
     "metadata": {},
     "output_type": "execute_result"
    }
   ],
   "source": [
    "train['Mileage'][0].split()[0], train['Mileage'][0].split()[1]"
   ]
  },
  {
   "cell_type": "code",
   "execution_count": 33,
   "metadata": {
    "_cell_guid": "c86c7f1d-dfaa-4791-9cda-9a6630ee1f44",
    "_uuid": "a8110f91-1408-40fc-a065-1dd67fe5edfc",
    "collapsed": false,
    "execution": {
     "iopub.execute_input": "2024-07-09T09:30:19.306118Z",
     "iopub.status.busy": "2024-07-09T09:30:19.305390Z",
     "iopub.status.idle": "2024-07-09T09:30:20.935555Z",
     "shell.execute_reply": "2024-07-09T09:30:20.934811Z",
     "shell.execute_reply.started": "2024-07-09T08:55:49.908421Z"
    },
    "jupyter": {
     "outputs_hidden": false
    },
    "papermill": {
     "duration": 1.742457,
     "end_time": "2024-07-09T09:30:20.935695",
     "exception": false,
     "start_time": "2024-07-09T09:30:19.193238",
     "status": "completed"
    },
    "tags": []
   },
   "outputs": [],
   "source": [
    "mile_age_val = pd.DataFrame(columns=['Mileage_value'])\n",
    "mile_age_measure = pd.DataFrame(columns=['Mileage_measure'])\n",
    "train = pd.concat([train, mile_age_val, mile_age_measure], axis=1)\n",
    "test = pd.concat([test, mile_age_val, mile_age_measure], axis=1)\n",
    "\n",
    "for i in train.index:\n",
    "    value = train['Mileage'][i].split()[0]\n",
    "    measure = train['Mileage'][i].split()[1]\n",
    "    train['Mileage_value'][i] = value\n",
    "    train['Mileage_measure'][i] = measure\n",
    "    \n",
    "for i in test.index:\n",
    "    value = test['Mileage'][i].split()[0]\n",
    "    measure = test['Mileage'][i].split()[1]\n",
    "    test['Mileage_value'][i] = value\n",
    "    test['Mileage_measure'][i] = measure\n",
    "    \n",
    "train.drop('Mileage', axis=1, inplace=True)\n",
    "test.drop('Mileage', axis=1, inplace=True)"
   ]
  },
  {
   "cell_type": "markdown",
   "metadata": {
    "_cell_guid": "0555a247-ded5-45fe-8d65-c97f972916a3",
    "_uuid": "47e494ab-04f4-4b11-93c8-72bb4d6a2363",
    "papermill": {
     "duration": 0.089522,
     "end_time": "2024-07-09T09:30:21.115290",
     "exception": false,
     "start_time": "2024-07-09T09:30:21.025768",
     "status": "completed"
    },
    "tags": []
   },
   "source": [
    "## Engine"
   ]
  },
  {
   "cell_type": "code",
   "execution_count": 34,
   "metadata": {
    "_cell_guid": "3873e533-6130-4383-81bf-7beffb9aea51",
    "_uuid": "d6e2e681-b454-41dd-ae7c-7ea3788eeeea",
    "collapsed": false,
    "execution": {
     "iopub.execute_input": "2024-07-09T09:30:21.302018Z",
     "iopub.status.busy": "2024-07-09T09:30:21.301195Z",
     "iopub.status.idle": "2024-07-09T09:30:21.305125Z",
     "shell.execute_reply": "2024-07-09T09:30:21.305612Z",
     "shell.execute_reply.started": "2024-07-09T08:55:51.639406Z"
    },
    "jupyter": {
     "outputs_hidden": false
    },
    "papermill": {
     "duration": 0.100741,
     "end_time": "2024-07-09T09:30:21.305780",
     "exception": false,
     "start_time": "2024-07-09T09:30:21.205039",
     "status": "completed"
    },
    "tags": []
   },
   "outputs": [
    {
     "data": {
      "text/plain": [
       "0      998 CC\n",
       "1     1582 CC\n",
       "2     1199 CC\n",
       "3     1248 CC\n",
       "4     1968 CC\n",
       "5      814 CC\n",
       "6     1461 CC\n",
       "7     2755 CC\n",
       "8     1598 CC\n",
       "9     1248 CC\n",
       "10    1462 CC\n",
       "11    1497 CC\n",
       "12    1248 CC\n",
       "13    2179 CC\n",
       "14    2179 CC\n",
       "15    2477 CC\n",
       "16    1498 CC\n",
       "17    1248 CC\n",
       "18    1461 CC\n",
       "19    2143 CC\n",
       "Name: Engine, dtype: object"
      ]
     },
     "execution_count": 34,
     "metadata": {},
     "output_type": "execute_result"
    }
   ],
   "source": [
    "train['Engine'][:20]"
   ]
  },
  {
   "cell_type": "code",
   "execution_count": 35,
   "metadata": {
    "_cell_guid": "b7473cef-a23d-4b50-b2e3-5b31c4c888fa",
    "_uuid": "aad760cb-3205-4307-a06d-a1fa8dfde752",
    "collapsed": false,
    "execution": {
     "iopub.execute_input": "2024-07-09T09:30:21.495768Z",
     "iopub.status.busy": "2024-07-09T09:30:21.494889Z",
     "iopub.status.idle": "2024-07-09T09:30:21.499366Z",
     "shell.execute_reply": "2024-07-09T09:30:21.498850Z",
     "shell.execute_reply.started": "2024-07-09T08:55:51.649901Z"
    },
    "jupyter": {
     "outputs_hidden": false
    },
    "papermill": {
     "duration": 0.103281,
     "end_time": "2024-07-09T09:30:21.499521",
     "exception": false,
     "start_time": "2024-07-09T09:30:21.396240",
     "status": "completed"
    },
    "tags": []
   },
   "outputs": [
    {
     "data": {
      "text/plain": [
       "1197 CC    604\n",
       "1248 CC    512\n",
       "1498 CC    304\n",
       "998 CC     259\n",
       "2179 CC    240\n",
       "          ... \n",
       "4951 CC      1\n",
       "2694 CC      1\n",
       "1422 CC      1\n",
       "2720 CC      1\n",
       "2706 CC      1\n",
       "Name: Engine, Length: 146, dtype: int64"
      ]
     },
     "execution_count": 35,
     "metadata": {},
     "output_type": "execute_result"
    }
   ],
   "source": [
    "train['Engine'].value_counts()"
   ]
  },
  {
   "cell_type": "code",
   "execution_count": 36,
   "metadata": {
    "_cell_guid": "c05576a0-22bf-4a72-b664-2e77a634f091",
    "_uuid": "cbbed17b-b6c0-43d9-94d4-ada13c27ba54",
    "collapsed": false,
    "execution": {
     "iopub.execute_input": "2024-07-09T09:30:21.689748Z",
     "iopub.status.busy": "2024-07-09T09:30:21.688708Z",
     "iopub.status.idle": "2024-07-09T09:30:21.693064Z",
     "shell.execute_reply": "2024-07-09T09:30:21.692414Z",
     "shell.execute_reply.started": "2024-07-09T08:55:51.668468Z"
    },
    "jupyter": {
     "outputs_hidden": false
    },
    "papermill": {
     "duration": 0.103903,
     "end_time": "2024-07-09T09:30:21.693184",
     "exception": false,
     "start_time": "2024-07-09T09:30:21.589281",
     "status": "completed"
    },
    "tags": []
   },
   "outputs": [
    {
     "data": {
      "text/plain": [
       "1197 CC    126\n",
       "1248 CC     98\n",
       "1498 CC     66\n",
       "1198 CC     54\n",
       "998 CC      50\n",
       "          ... \n",
       "793 CC       1\n",
       "4395 CC      1\n",
       "1948 CC      1\n",
       "5998 CC      1\n",
       "2198 CC      1\n",
       "Name: Engine, Length: 104, dtype: int64"
      ]
     },
     "execution_count": 36,
     "metadata": {},
     "output_type": "execute_result"
    }
   ],
   "source": [
    "test['Engine'].value_counts()"
   ]
  },
  {
   "cell_type": "code",
   "execution_count": 37,
   "metadata": {
    "_cell_guid": "8da81c86-62d4-4ac6-a9fe-3053e6eae3bc",
    "_uuid": "6cdc4c92-ca4b-44a7-9674-2483f6885d16",
    "collapsed": false,
    "execution": {
     "iopub.execute_input": "2024-07-09T09:30:21.882224Z",
     "iopub.status.busy": "2024-07-09T09:30:21.881533Z",
     "iopub.status.idle": "2024-07-09T09:30:21.884969Z",
     "shell.execute_reply": "2024-07-09T09:30:21.884374Z",
     "shell.execute_reply.started": "2024-07-09T08:55:51.686400Z"
    },
    "jupyter": {
     "outputs_hidden": false
    },
    "papermill": {
     "duration": 0.101366,
     "end_time": "2024-07-09T09:30:21.885110",
     "exception": false,
     "start_time": "2024-07-09T09:30:21.783744",
     "status": "completed"
    },
    "tags": []
   },
   "outputs": [],
   "source": [
    "# Null Values\n",
    "train['Engine'] = train['Engine'].fillna('1197 CC')\n",
    "test['Engine'] = test['Engine'].fillna('1197 CC')"
   ]
  },
  {
   "cell_type": "code",
   "execution_count": 38,
   "metadata": {
    "_cell_guid": "7de01b0a-761d-4502-bcca-028d9ddd7d3d",
    "_uuid": "a93067e6-d6d4-4911-b0d9-a076d888ef8c",
    "collapsed": false,
    "execution": {
     "iopub.execute_input": "2024-07-09T09:30:22.074848Z",
     "iopub.status.busy": "2024-07-09T09:30:22.073966Z",
     "iopub.status.idle": "2024-07-09T09:30:22.077747Z",
     "shell.execute_reply": "2024-07-09T09:30:22.077038Z",
     "shell.execute_reply.started": "2024-07-09T08:55:51.700086Z"
    },
    "jupyter": {
     "outputs_hidden": false
    },
    "papermill": {
     "duration": 0.100151,
     "end_time": "2024-07-09T09:30:22.077879",
     "exception": false,
     "start_time": "2024-07-09T09:30:21.977728",
     "status": "completed"
    },
    "tags": []
   },
   "outputs": [
    {
     "data": {
      "text/plain": [
       "('998', 'CC')"
      ]
     },
     "execution_count": 38,
     "metadata": {},
     "output_type": "execute_result"
    }
   ],
   "source": [
    "train['Engine'][0].split()[0], train['Engine'][0].split()[1]"
   ]
  },
  {
   "cell_type": "code",
   "execution_count": 39,
   "metadata": {
    "_cell_guid": "27dba578-ed36-42eb-b22d-1f111cfd0dde",
    "_uuid": "192f663f-38c6-4b22-8bab-42f323736408",
    "collapsed": false,
    "execution": {
     "iopub.execute_input": "2024-07-09T09:30:22.277850Z",
     "iopub.status.busy": "2024-07-09T09:30:22.267372Z",
     "iopub.status.idle": "2024-07-09T09:30:23.848739Z",
     "shell.execute_reply": "2024-07-09T09:30:23.847969Z",
     "shell.execute_reply.started": "2024-07-09T08:55:51.712985Z"
    },
    "jupyter": {
     "outputs_hidden": false
    },
    "papermill": {
     "duration": 1.680305,
     "end_time": "2024-07-09T09:30:23.848871",
     "exception": false,
     "start_time": "2024-07-09T09:30:22.168566",
     "status": "completed"
    },
    "tags": []
   },
   "outputs": [],
   "source": [
    "engine_val = pd.DataFrame(columns=['Engine_value'])\n",
    "engine_measure = pd.DataFrame(columns=['Engine_measure'])\n",
    "train = pd.concat([train, engine_val, engine_measure], axis=1)\n",
    "test = pd.concat([test, engine_val, engine_measure], axis=1)\n",
    "\n",
    "for i in train.index:\n",
    "    value = train['Engine'][i].split()[0]\n",
    "    measure = train['Engine'][i].split()[1]\n",
    "    train['Engine_value'][i] = value\n",
    "    train['Engine_measure'][i] = measure\n",
    "        \n",
    "for i in test.index:\n",
    "    value = test['Engine'][i].split()[0]\n",
    "    measure = test['Engine'][i].split()[1]\n",
    "    test['Engine_value'][i] = value\n",
    "    test['Engine_measure'][i] = measure\n",
    "    \n",
    "train.drop('Engine', axis=1, inplace=True)\n",
    "test.drop('Engine', axis=1, inplace=True)"
   ]
  },
  {
   "cell_type": "code",
   "execution_count": 40,
   "metadata": {
    "_cell_guid": "0214424d-3a5e-49b7-a86f-5297d0355e68",
    "_uuid": "46257b9a-37b4-46f1-8a6a-75d65075591a",
    "collapsed": false,
    "execution": {
     "iopub.execute_input": "2024-07-09T09:30:24.041133Z",
     "iopub.status.busy": "2024-07-09T09:30:24.040370Z",
     "iopub.status.idle": "2024-07-09T09:30:24.044160Z",
     "shell.execute_reply": "2024-07-09T09:30:24.043475Z",
     "shell.execute_reply.started": "2024-07-09T08:55:53.471982Z"
    },
    "jupyter": {
     "outputs_hidden": false
    },
    "papermill": {
     "duration": 0.102938,
     "end_time": "2024-07-09T09:30:24.044290",
     "exception": false,
     "start_time": "2024-07-09T09:30:23.941352",
     "status": "completed"
    },
    "tags": []
   },
   "outputs": [
    {
     "data": {
      "text/plain": [
       "CC    6012\n",
       "Name: Engine_measure, dtype: int64"
      ]
     },
     "execution_count": 40,
     "metadata": {},
     "output_type": "execute_result"
    }
   ],
   "source": [
    "train['Engine_measure'].value_counts()"
   ]
  },
  {
   "cell_type": "code",
   "execution_count": 41,
   "metadata": {
    "_cell_guid": "edac7955-bba4-4f6c-b3dc-4bd3d97b7930",
    "_uuid": "dadf160f-0c50-4421-a3a6-037a6b9a282b",
    "collapsed": false,
    "execution": {
     "iopub.execute_input": "2024-07-09T09:30:24.234160Z",
     "iopub.status.busy": "2024-07-09T09:30:24.233331Z",
     "iopub.status.idle": "2024-07-09T09:30:24.239792Z",
     "shell.execute_reply": "2024-07-09T09:30:24.239167Z",
     "shell.execute_reply.started": "2024-07-09T08:55:53.485437Z"
    },
    "jupyter": {
     "outputs_hidden": false
    },
    "papermill": {
     "duration": 0.104506,
     "end_time": "2024-07-09T09:30:24.239933",
     "exception": false,
     "start_time": "2024-07-09T09:30:24.135427",
     "status": "completed"
    },
    "tags": []
   },
   "outputs": [],
   "source": [
    "train.drop('Engine_measure', axis=1, inplace=True)\n",
    "test.drop('Engine_measure', axis=1, inplace=True)"
   ]
  },
  {
   "cell_type": "code",
   "execution_count": 42,
   "metadata": {
    "_cell_guid": "ebf8c95f-a62d-4b22-a907-705548491646",
    "_uuid": "e5f87212-d10d-468e-bcbd-7aef6e6ee157",
    "collapsed": false,
    "execution": {
     "iopub.execute_input": "2024-07-09T09:30:24.429484Z",
     "iopub.status.busy": "2024-07-09T09:30:24.428687Z",
     "iopub.status.idle": "2024-07-09T09:30:24.432657Z",
     "shell.execute_reply": "2024-07-09T09:30:24.431956Z",
     "shell.execute_reply.started": "2024-07-09T08:55:53.502542Z"
    },
    "jupyter": {
     "outputs_hidden": false
    },
    "papermill": {
     "duration": 0.10219,
     "end_time": "2024-07-09T09:30:24.432782",
     "exception": false,
     "start_time": "2024-07-09T09:30:24.330592",
     "status": "completed"
    },
    "tags": []
   },
   "outputs": [
    {
     "data": {
      "text/plain": [
       "((6012, 13), (1234, 12))"
      ]
     },
     "execution_count": 42,
     "metadata": {},
     "output_type": "execute_result"
    }
   ],
   "source": [
    "train.shape, test.shape"
   ]
  },
  {
   "cell_type": "markdown",
   "metadata": {
    "_cell_guid": "91888bb1-2cdf-4766-a5e0-5427e412861e",
    "_uuid": "db68fcab-7c2c-40ea-8865-9f2518cb40ee",
    "papermill": {
     "duration": 0.090591,
     "end_time": "2024-07-09T09:30:24.614180",
     "exception": false,
     "start_time": "2024-07-09T09:30:24.523589",
     "status": "completed"
    },
    "tags": []
   },
   "source": [
    "## Power"
   ]
  },
  {
   "cell_type": "code",
   "execution_count": 43,
   "metadata": {
    "_cell_guid": "b15f92d2-2d4f-4ac2-9a79-77935631b8c8",
    "_uuid": "dfc57958-e9d9-44e0-95be-c98299a5edc8",
    "collapsed": false,
    "execution": {
     "iopub.execute_input": "2024-07-09T09:30:24.809721Z",
     "iopub.status.busy": "2024-07-09T09:30:24.808883Z",
     "iopub.status.idle": "2024-07-09T09:30:24.813188Z",
     "shell.execute_reply": "2024-07-09T09:30:24.812623Z",
     "shell.execute_reply.started": "2024-07-09T08:55:53.518150Z"
    },
    "jupyter": {
     "outputs_hidden": false
    },
    "papermill": {
     "duration": 0.105833,
     "end_time": "2024-07-09T09:30:24.813319",
     "exception": false,
     "start_time": "2024-07-09T09:30:24.707486",
     "status": "completed"
    },
    "tags": []
   },
   "outputs": [
    {
     "data": {
      "text/plain": [
       "74 bhp        235\n",
       "98.6 bhp      131\n",
       "73.9 bhp      125\n",
       "140 bhp       123\n",
       "78.9 bhp      110\n",
       "             ... \n",
       "168 bhp         1\n",
       "74.93 bhp       1\n",
       "127 bhp         1\n",
       "246.74 bhp      1\n",
       "89.75 bhp       1\n",
       "Name: Power, Length: 372, dtype: int64"
      ]
     },
     "execution_count": 43,
     "metadata": {},
     "output_type": "execute_result"
    }
   ],
   "source": [
    "train['Power'].value_counts()"
   ]
  },
  {
   "cell_type": "code",
   "execution_count": 44,
   "metadata": {
    "_cell_guid": "671fd62a-a64f-494f-8185-8a83fb0c138d",
    "_uuid": "cfb76d7f-8f96-446c-9d94-01c42c965fe7",
    "collapsed": false,
    "execution": {
     "iopub.execute_input": "2024-07-09T09:30:25.008677Z",
     "iopub.status.busy": "2024-07-09T09:30:25.007599Z",
     "iopub.status.idle": "2024-07-09T09:30:25.012011Z",
     "shell.execute_reply": "2024-07-09T09:30:25.011272Z",
     "shell.execute_reply.started": "2024-07-09T08:55:53.549810Z"
    },
    "jupyter": {
     "outputs_hidden": false
    },
    "papermill": {
     "duration": 0.106702,
     "end_time": "2024-07-09T09:30:25.012145",
     "exception": false,
     "start_time": "2024-07-09T09:30:24.905443",
     "status": "completed"
    },
    "tags": []
   },
   "outputs": [
    {
     "data": {
      "text/plain": [
       "74 bhp        45\n",
       "98.6 bhp      35\n",
       "73.9 bhp      27\n",
       "82 bhp        23\n",
       "null bhp      22\n",
       "              ..\n",
       "123.7 bhp      1\n",
       "364.9 bhp      1\n",
       "261.49 bhp     1\n",
       "198.25 bhp     1\n",
       "115 bhp        1\n",
       "Name: Power, Length: 249, dtype: int64"
      ]
     },
     "execution_count": 44,
     "metadata": {},
     "output_type": "execute_result"
    }
   ],
   "source": [
    "test['Power'].value_counts()"
   ]
  },
  {
   "cell_type": "code",
   "execution_count": 45,
   "metadata": {
    "_cell_guid": "de0fcef7-8d0b-46fb-ab45-038bd43ac7ec",
    "_uuid": "6c595c8e-1e60-4024-b7e3-dfdf916c2b04",
    "collapsed": false,
    "execution": {
     "iopub.execute_input": "2024-07-09T09:30:25.204372Z",
     "iopub.status.busy": "2024-07-09T09:30:25.202332Z",
     "iopub.status.idle": "2024-07-09T09:30:25.206964Z",
     "shell.execute_reply": "2024-07-09T09:30:25.207562Z",
     "shell.execute_reply.started": "2024-07-09T08:55:53.569209Z"
    },
    "jupyter": {
     "outputs_hidden": false
    },
    "papermill": {
     "duration": 0.102585,
     "end_time": "2024-07-09T09:30:25.207728",
     "exception": false,
     "start_time": "2024-07-09T09:30:25.105143",
     "status": "completed"
    },
    "tags": []
   },
   "outputs": [],
   "source": [
    "# Null Values\n",
    "train['Power'] = train['Power'].fillna('74 bhp')\n",
    "test['Power'] = test['Power'].fillna('74 bhp')"
   ]
  },
  {
   "cell_type": "code",
   "execution_count": 46,
   "metadata": {
    "_cell_guid": "aa20d37e-d96a-480e-9fff-84f2dae228ff",
    "_uuid": "510f0411-db86-4db6-9240-25c27128c60d",
    "collapsed": false,
    "execution": {
     "iopub.execute_input": "2024-07-09T09:30:25.413069Z",
     "iopub.status.busy": "2024-07-09T09:30:25.409998Z",
     "iopub.status.idle": "2024-07-09T09:30:26.997286Z",
     "shell.execute_reply": "2024-07-09T09:30:26.996589Z",
     "shell.execute_reply.started": "2024-07-09T08:55:53.584705Z"
    },
    "jupyter": {
     "outputs_hidden": false
    },
    "papermill": {
     "duration": 1.697544,
     "end_time": "2024-07-09T09:30:26.997423",
     "exception": false,
     "start_time": "2024-07-09T09:30:25.299879",
     "status": "completed"
    },
    "tags": []
   },
   "outputs": [],
   "source": [
    "power_val = pd.DataFrame(columns=['Power_value'])\n",
    "power_measure = pd.DataFrame(columns=['Power_measure'])\n",
    "train = pd.concat([train, power_val, power_measure], axis=1)\n",
    "test = pd.concat([test, power_val, power_measure], axis=1)\n",
    "\n",
    "for i in train.index:\n",
    "    value = train['Power'][i].split()[0]\n",
    "    measure = train['Power'][i].split()[1]\n",
    "    train['Power_value'][i] = value\n",
    "    train['Power_measure'][i] = measure\n",
    "        \n",
    "for i in test.index:\n",
    "    value = test['Power'][i].split()[0]\n",
    "    measure = test['Power'][i].split()[1]\n",
    "    test['Power_value'][i] = value\n",
    "    test['Power_measure'][i] = measure\n",
    "    \n",
    "train.drop('Power', axis=1, inplace=True)\n",
    "test.drop('Power', axis=1, inplace=True)"
   ]
  },
  {
   "cell_type": "code",
   "execution_count": 47,
   "metadata": {
    "_cell_guid": "4b655e93-286d-48ab-b9eb-b3894649d79b",
    "_uuid": "157bd97a-8ca3-449e-9a09-250ac0d3deaa",
    "collapsed": false,
    "execution": {
     "iopub.execute_input": "2024-07-09T09:30:27.191410Z",
     "iopub.status.busy": "2024-07-09T09:30:27.190650Z",
     "iopub.status.idle": "2024-07-09T09:30:27.194630Z",
     "shell.execute_reply": "2024-07-09T09:30:27.193886Z",
     "shell.execute_reply.started": "2024-07-09T08:55:55.392035Z"
    },
    "jupyter": {
     "outputs_hidden": false
    },
    "papermill": {
     "duration": 0.105442,
     "end_time": "2024-07-09T09:30:27.194761",
     "exception": false,
     "start_time": "2024-07-09T09:30:27.089319",
     "status": "completed"
    },
    "tags": []
   },
   "outputs": [
    {
     "data": {
      "text/plain": [
       "bhp    6012\n",
       "Name: Power_measure, dtype: int64"
      ]
     },
     "execution_count": 47,
     "metadata": {},
     "output_type": "execute_result"
    }
   ],
   "source": [
    "train['Power_measure'].value_counts()"
   ]
  },
  {
   "cell_type": "code",
   "execution_count": 48,
   "metadata": {
    "_cell_guid": "3189e54f-c02c-4553-a088-c4b6af75fea4",
    "_uuid": "e6d978db-63a7-495d-86fb-7df9e2a1fddd",
    "collapsed": false,
    "execution": {
     "iopub.execute_input": "2024-07-09T09:30:27.399329Z",
     "iopub.status.busy": "2024-07-09T09:30:27.398171Z",
     "iopub.status.idle": "2024-07-09T09:30:27.402872Z",
     "shell.execute_reply": "2024-07-09T09:30:27.402183Z",
     "shell.execute_reply.started": "2024-07-09T08:55:55.405501Z"
    },
    "jupyter": {
     "outputs_hidden": false
    },
    "papermill": {
     "duration": 0.115991,
     "end_time": "2024-07-09T09:30:27.403009",
     "exception": false,
     "start_time": "2024-07-09T09:30:27.287018",
     "status": "completed"
    },
    "tags": []
   },
   "outputs": [
    {
     "data": {
      "text/html": [
       "<div>\n",
       "<style scoped>\n",
       "    .dataframe tbody tr th:only-of-type {\n",
       "        vertical-align: middle;\n",
       "    }\n",
       "\n",
       "    .dataframe tbody tr th {\n",
       "        vertical-align: top;\n",
       "    }\n",
       "\n",
       "    .dataframe thead th {\n",
       "        text-align: right;\n",
       "    }\n",
       "</style>\n",
       "<table border=\"1\" class=\"dataframe\">\n",
       "  <thead>\n",
       "    <tr style=\"text-align: right;\">\n",
       "      <th></th>\n",
       "      <th>Unnamed: 0</th>\n",
       "      <th>Location</th>\n",
       "      <th>Year</th>\n",
       "      <th>Kilometers_Driven</th>\n",
       "      <th>Fuel_Type</th>\n",
       "      <th>Transmission</th>\n",
       "      <th>Owner_Type</th>\n",
       "      <th>Seats</th>\n",
       "      <th>Price</th>\n",
       "      <th>Mileage_value</th>\n",
       "      <th>Mileage_measure</th>\n",
       "      <th>Engine_value</th>\n",
       "      <th>Power_value</th>\n",
       "      <th>Power_measure</th>\n",
       "    </tr>\n",
       "  </thead>\n",
       "  <tbody>\n",
       "    <tr>\n",
       "      <th>0</th>\n",
       "      <td>0</td>\n",
       "      <td>Mumbai</td>\n",
       "      <td>2010</td>\n",
       "      <td>72000</td>\n",
       "      <td>CNG</td>\n",
       "      <td>Manual</td>\n",
       "      <td>First</td>\n",
       "      <td>5.0</td>\n",
       "      <td>1.75</td>\n",
       "      <td>26.6</td>\n",
       "      <td>km/kg</td>\n",
       "      <td>998</td>\n",
       "      <td>58.16</td>\n",
       "      <td>bhp</td>\n",
       "    </tr>\n",
       "    <tr>\n",
       "      <th>1</th>\n",
       "      <td>1</td>\n",
       "      <td>Pune</td>\n",
       "      <td>2015</td>\n",
       "      <td>41000</td>\n",
       "      <td>Diesel</td>\n",
       "      <td>Manual</td>\n",
       "      <td>First</td>\n",
       "      <td>5.0</td>\n",
       "      <td>12.50</td>\n",
       "      <td>19.67</td>\n",
       "      <td>kmpl</td>\n",
       "      <td>1582</td>\n",
       "      <td>126.2</td>\n",
       "      <td>bhp</td>\n",
       "    </tr>\n",
       "    <tr>\n",
       "      <th>2</th>\n",
       "      <td>2</td>\n",
       "      <td>Chennai</td>\n",
       "      <td>2011</td>\n",
       "      <td>46000</td>\n",
       "      <td>Petrol</td>\n",
       "      <td>Manual</td>\n",
       "      <td>First</td>\n",
       "      <td>5.0</td>\n",
       "      <td>4.50</td>\n",
       "      <td>18.2</td>\n",
       "      <td>kmpl</td>\n",
       "      <td>1199</td>\n",
       "      <td>88.7</td>\n",
       "      <td>bhp</td>\n",
       "    </tr>\n",
       "    <tr>\n",
       "      <th>3</th>\n",
       "      <td>3</td>\n",
       "      <td>Chennai</td>\n",
       "      <td>2012</td>\n",
       "      <td>87000</td>\n",
       "      <td>Diesel</td>\n",
       "      <td>Manual</td>\n",
       "      <td>First</td>\n",
       "      <td>7.0</td>\n",
       "      <td>6.00</td>\n",
       "      <td>20.77</td>\n",
       "      <td>kmpl</td>\n",
       "      <td>1248</td>\n",
       "      <td>88.76</td>\n",
       "      <td>bhp</td>\n",
       "    </tr>\n",
       "    <tr>\n",
       "      <th>4</th>\n",
       "      <td>4</td>\n",
       "      <td>Coimbatore</td>\n",
       "      <td>2013</td>\n",
       "      <td>40670</td>\n",
       "      <td>Diesel</td>\n",
       "      <td>Automatic</td>\n",
       "      <td>Second</td>\n",
       "      <td>5.0</td>\n",
       "      <td>17.74</td>\n",
       "      <td>15.2</td>\n",
       "      <td>kmpl</td>\n",
       "      <td>1968</td>\n",
       "      <td>140.8</td>\n",
       "      <td>bhp</td>\n",
       "    </tr>\n",
       "  </tbody>\n",
       "</table>\n",
       "</div>"
      ],
      "text/plain": [
       "   Unnamed: 0    Location  Year  Kilometers_Driven Fuel_Type Transmission  \\\n",
       "0           0      Mumbai  2010              72000       CNG       Manual   \n",
       "1           1        Pune  2015              41000    Diesel       Manual   \n",
       "2           2     Chennai  2011              46000    Petrol       Manual   \n",
       "3           3     Chennai  2012              87000    Diesel       Manual   \n",
       "4           4  Coimbatore  2013              40670    Diesel    Automatic   \n",
       "\n",
       "  Owner_Type  Seats  Price Mileage_value Mileage_measure Engine_value  \\\n",
       "0      First    5.0   1.75          26.6           km/kg          998   \n",
       "1      First    5.0  12.50         19.67            kmpl         1582   \n",
       "2      First    5.0   4.50          18.2            kmpl         1199   \n",
       "3      First    7.0   6.00         20.77            kmpl         1248   \n",
       "4     Second    5.0  17.74          15.2            kmpl         1968   \n",
       "\n",
       "  Power_value Power_measure  \n",
       "0       58.16           bhp  \n",
       "1       126.2           bhp  \n",
       "2        88.7           bhp  \n",
       "3       88.76           bhp  \n",
       "4       140.8           bhp  "
      ]
     },
     "execution_count": 48,
     "metadata": {},
     "output_type": "execute_result"
    }
   ],
   "source": [
    "train.head()"
   ]
  },
  {
   "cell_type": "code",
   "execution_count": 49,
   "metadata": {
    "_cell_guid": "77809959-dbad-46a4-83cf-0f8293dd3ab8",
    "_uuid": "0b5636fa-ebd4-43f7-ab8f-e6084f8e0656",
    "collapsed": false,
    "execution": {
     "iopub.execute_input": "2024-07-09T09:30:27.597528Z",
     "iopub.status.busy": "2024-07-09T09:30:27.596812Z",
     "iopub.status.idle": "2024-07-09T09:30:27.599665Z",
     "shell.execute_reply": "2024-07-09T09:30:27.599125Z",
     "shell.execute_reply.started": "2024-07-09T08:55:55.434837Z"
    },
    "jupyter": {
     "outputs_hidden": false
    },
    "papermill": {
     "duration": 0.103339,
     "end_time": "2024-07-09T09:30:27.599797",
     "exception": false,
     "start_time": "2024-07-09T09:30:27.496458",
     "status": "completed"
    },
    "tags": []
   },
   "outputs": [],
   "source": [
    "train['Power_value'].fillna('74', inplace=True)\n",
    "test['Power_value'].fillna('74', inplace=True)"
   ]
  },
  {
   "cell_type": "code",
   "execution_count": 50,
   "metadata": {
    "_cell_guid": "44e71ff5-65a4-4a5b-a3b7-e1b2b125ab68",
    "_uuid": "4d5ea83d-e87c-4089-bcce-5111b4377b38",
    "collapsed": false,
    "execution": {
     "iopub.execute_input": "2024-07-09T09:30:27.797316Z",
     "iopub.status.busy": "2024-07-09T09:30:27.796619Z",
     "iopub.status.idle": "2024-07-09T09:30:27.802972Z",
     "shell.execute_reply": "2024-07-09T09:30:27.802357Z",
     "shell.execute_reply.started": "2024-07-09T08:55:55.448707Z"
    },
    "jupyter": {
     "outputs_hidden": false
    },
    "papermill": {
     "duration": 0.107031,
     "end_time": "2024-07-09T09:30:27.803098",
     "exception": false,
     "start_time": "2024-07-09T09:30:27.696067",
     "status": "completed"
    },
    "tags": []
   },
   "outputs": [],
   "source": [
    "train.drop('Power_measure', axis=1, inplace=True)\n",
    "test.drop('Power_measure', axis=1, inplace=True)"
   ]
  },
  {
   "cell_type": "markdown",
   "metadata": {
    "_cell_guid": "16563e24-4782-4915-ac6f-6b718a4793f8",
    "_uuid": "4861311c-df95-474d-94bf-1c3f9713dea5",
    "papermill": {
     "duration": 0.092825,
     "end_time": "2024-07-09T09:30:27.988672",
     "exception": false,
     "start_time": "2024-07-09T09:30:27.895847",
     "status": "completed"
    },
    "tags": []
   },
   "source": [
    "## Seats"
   ]
  },
  {
   "cell_type": "code",
   "execution_count": 51,
   "metadata": {
    "_cell_guid": "b5812c43-3787-4311-8e62-b11ec41ffb16",
    "_uuid": "cf14b642-7027-4680-adb9-62e1979abd9a",
    "collapsed": false,
    "execution": {
     "iopub.execute_input": "2024-07-09T09:30:28.182845Z",
     "iopub.status.busy": "2024-07-09T09:30:28.180095Z",
     "iopub.status.idle": "2024-07-09T09:30:28.187272Z",
     "shell.execute_reply": "2024-07-09T09:30:28.186565Z",
     "shell.execute_reply.started": "2024-07-09T08:55:55.666410Z"
    },
    "jupyter": {
     "outputs_hidden": false
    },
    "papermill": {
     "duration": 0.104392,
     "end_time": "2024-07-09T09:30:28.187403",
     "exception": false,
     "start_time": "2024-07-09T09:30:28.083011",
     "status": "completed"
    },
    "tags": []
   },
   "outputs": [
    {
     "data": {
      "text/plain": [
       "5.0     5007\n",
       "7.0      674\n",
       "8.0      134\n",
       "4.0       99\n",
       "6.0       31\n",
       "2.0       16\n",
       "10.0       5\n",
       "9.0        3\n",
       "0.0        1\n",
       "Name: Seats, dtype: int64"
      ]
     },
     "execution_count": 51,
     "metadata": {},
     "output_type": "execute_result"
    }
   ],
   "source": [
    "train['Seats'].value_counts()"
   ]
  },
  {
   "cell_type": "code",
   "execution_count": 52,
   "metadata": {
    "_cell_guid": "3f56ad84-1de7-4126-bcd8-a440553d145f",
    "_uuid": "70ab1e47-f3e6-43f2-970c-d6b514e68c6a",
    "collapsed": false,
    "execution": {
     "iopub.execute_input": "2024-07-09T09:30:28.383253Z",
     "iopub.status.busy": "2024-07-09T09:30:28.382415Z",
     "iopub.status.idle": "2024-07-09T09:30:28.386762Z",
     "shell.execute_reply": "2024-07-09T09:30:28.386017Z",
     "shell.execute_reply.started": "2024-07-09T08:55:55.825600Z"
    },
    "jupyter": {
     "outputs_hidden": false
    },
    "papermill": {
     "duration": 0.105786,
     "end_time": "2024-07-09T09:30:28.386905",
     "exception": false,
     "start_time": "2024-07-09T09:30:28.281119",
     "status": "completed"
    },
    "tags": []
   },
   "outputs": [
    {
     "data": {
      "text/plain": [
       "5.0     1033\n",
       "7.0      122\n",
       "8.0       36\n",
       "4.0       20\n",
       "6.0        7\n",
       "10.0       3\n",
       "2.0        2\n",
       "Name: Seats, dtype: int64"
      ]
     },
     "execution_count": 52,
     "metadata": {},
     "output_type": "execute_result"
    }
   ],
   "source": [
    "test['Seats'].value_counts()"
   ]
  },
  {
   "cell_type": "code",
   "execution_count": 53,
   "metadata": {
    "_cell_guid": "39ff76a9-7e1d-4bd2-afcc-43f8cf1998f2",
    "_uuid": "93f6a619-ef41-4de8-9011-74890be03934",
    "collapsed": false,
    "execution": {
     "iopub.execute_input": "2024-07-09T09:30:28.580890Z",
     "iopub.status.busy": "2024-07-09T09:30:28.579849Z",
     "iopub.status.idle": "2024-07-09T09:30:28.583057Z",
     "shell.execute_reply": "2024-07-09T09:30:28.582340Z",
     "shell.execute_reply.started": "2024-07-09T08:55:56.000349Z"
    },
    "jupyter": {
     "outputs_hidden": false
    },
    "papermill": {
     "duration": 0.103018,
     "end_time": "2024-07-09T09:30:28.583185",
     "exception": false,
     "start_time": "2024-07-09T09:30:28.480167",
     "status": "completed"
    },
    "tags": []
   },
   "outputs": [],
   "source": [
    "# Null values\n",
    "train['Seats'] = train['Seats'].fillna(5.0)\n",
    "test['Seats'] = test['Seats'].fillna(5.0)"
   ]
  },
  {
   "cell_type": "markdown",
   "metadata": {
    "_cell_guid": "2c17c615-88bd-44c8-aa50-e6e98a4a79b0",
    "_uuid": "73f2a17c-44bb-4d1e-b09d-609d7e9e0252",
    "papermill": {
     "duration": 0.096881,
     "end_time": "2024-07-09T09:30:28.775084",
     "exception": false,
     "start_time": "2024-07-09T09:30:28.678203",
     "status": "completed"
    },
    "tags": []
   },
   "source": [
    "# EDA"
   ]
  },
  {
   "cell_type": "code",
   "execution_count": 54,
   "metadata": {
    "_cell_guid": "6b76d536-7eab-4da2-9f98-26080296ee0f",
    "_uuid": "25e11fbe-608f-4034-bf7f-03af99805b47",
    "collapsed": false,
    "execution": {
     "iopub.execute_input": "2024-07-09T09:30:29.020368Z",
     "iopub.status.busy": "2024-07-09T09:30:29.019587Z",
     "iopub.status.idle": "2024-07-09T09:30:29.027711Z",
     "shell.execute_reply": "2024-07-09T09:30:29.027109Z",
     "shell.execute_reply.started": "2024-07-09T08:55:56.354994Z"
    },
    "jupyter": {
     "outputs_hidden": false
    },
    "papermill": {
     "duration": 0.157917,
     "end_time": "2024-07-09T09:30:29.027848",
     "exception": false,
     "start_time": "2024-07-09T09:30:28.869931",
     "status": "completed"
    },
    "tags": []
   },
   "outputs": [
    {
     "data": {
      "text/plain": [
       "2047    1\n",
       "673     1\n",
       "661     1\n",
       "4759    1\n",
       "2712    1\n",
       "       ..\n",
       "5440    1\n",
       "1346    1\n",
       "3395    1\n",
       "5444    1\n",
       "0       1\n",
       "Name: Unnamed: 0, Length: 6012, dtype: int64"
      ]
     },
     "execution_count": 54,
     "metadata": {},
     "output_type": "execute_result"
    }
   ],
   "source": [
    "train['Unnamed: 0'].value_counts()"
   ]
  },
  {
   "cell_type": "code",
   "execution_count": 55,
   "metadata": {
    "_cell_guid": "f8ef3b86-9472-4dba-865a-c1ea24c6afbf",
    "_uuid": "7f734691-e50a-42a6-8c1c-0c605ea333aa",
    "collapsed": false,
    "execution": {
     "iopub.execute_input": "2024-07-09T09:30:29.224882Z",
     "iopub.status.busy": "2024-07-09T09:30:29.222546Z",
     "iopub.status.idle": "2024-07-09T09:30:29.228473Z",
     "shell.execute_reply": "2024-07-09T09:30:29.229067Z",
     "shell.execute_reply.started": "2024-07-09T08:55:56.514316Z"
    },
    "jupyter": {
     "outputs_hidden": false
    },
    "papermill": {
     "duration": 0.10734,
     "end_time": "2024-07-09T09:30:29.229227",
     "exception": false,
     "start_time": "2024-07-09T09:30:29.121887",
     "status": "completed"
    },
    "tags": []
   },
   "outputs": [],
   "source": [
    "train.drop('Unnamed: 0', axis=1, inplace=True)\n",
    "test.drop('Unnamed: 0', axis=1, inplace=True)"
   ]
  },
  {
   "cell_type": "markdown",
   "metadata": {
    "_cell_guid": "3e44a11d-4d67-485d-ba3b-bca4d83c3b7d",
    "_uuid": "270155c3-9f98-495c-ab47-a64e0f42de4a",
    "papermill": {
     "duration": 0.096036,
     "end_time": "2024-07-09T09:30:29.419617",
     "exception": false,
     "start_time": "2024-07-09T09:30:29.323581",
     "status": "completed"
    },
    "tags": []
   },
   "source": [
    "## Location"
   ]
  },
  {
   "cell_type": "code",
   "execution_count": 56,
   "metadata": {
    "_cell_guid": "4abb2d8e-c38e-4eca-9353-1a203f588dc7",
    "_uuid": "5c9fe5b9-6acb-4e8c-8b8c-4a0748ed490b",
    "collapsed": false,
    "execution": {
     "iopub.execute_input": "2024-07-09T09:30:29.619777Z",
     "iopub.status.busy": "2024-07-09T09:30:29.618998Z",
     "iopub.status.idle": "2024-07-09T09:30:30.178473Z",
     "shell.execute_reply": "2024-07-09T09:30:30.177899Z",
     "shell.execute_reply.started": "2024-07-09T08:55:56.819939Z"
    },
    "jupyter": {
     "outputs_hidden": false
    },
    "papermill": {
     "duration": 0.663728,
     "end_time": "2024-07-09T09:30:30.178636",
     "exception": false,
     "start_time": "2024-07-09T09:30:29.514908",
     "status": "completed"
    },
    "tags": []
   },
   "outputs": [
    {
     "data": {
      "text/plain": [
       "<matplotlib.axes._subplots.AxesSubplot at 0x7d3fae8db090>"
      ]
     },
     "execution_count": 56,
     "metadata": {},
     "output_type": "execute_result"
    },
    {
     "data": {
      "image/png": "[encoded data removed]",
      "text/plain": [
       "<Figure size 864x648 with 1 Axes>"
      ]
     },
     "metadata": {
      "needs_background": "light"
     },
     "output_type": "display_data"
    }
   ],
   "source": [
    "plt.figure(figsize=(12, 9))\n",
    "sns.barplot('Location', 'Price', data=train)"
   ]
  },
  {
   "cell_type": "markdown",
   "metadata": {
    "_cell_guid": "f4fb9bae-a91b-4574-80b2-6aff90efb04e",
    "_uuid": "70812dfe-b15d-4240-9a8c-49a419165cb7",
    "papermill": {
     "duration": 0.098354,
     "end_time": "2024-07-09T09:30:30.387579",
     "exception": false,
     "start_time": "2024-07-09T09:30:30.289225",
     "status": "completed"
    },
    "tags": []
   },
   "source": [
    "## Year"
   ]
  },
  {
   "cell_type": "code",
   "execution_count": 57,
   "metadata": {
    "_cell_guid": "d892504d-6147-41e5-a105-7ce0f04ab6c8",
    "_uuid": "3cedd2b5-a1c8-405c-8862-35be9fe78f4d",
    "collapsed": false,
    "execution": {
     "iopub.execute_input": "2024-07-09T09:30:30.585582Z",
     "iopub.status.busy": "2024-07-09T09:30:30.583651Z",
     "iopub.status.idle": "2024-07-09T09:30:31.054844Z",
     "shell.execute_reply": "2024-07-09T09:30:31.055361Z",
     "shell.execute_reply.started": "2024-07-09T08:55:57.524393Z"
    },
    "jupyter": {
     "outputs_hidden": false
    },
    "papermill": {
     "duration": 0.57232,
     "end_time": "2024-07-09T09:30:31.055541",
     "exception": false,
     "start_time": "2024-07-09T09:30:30.483221",
     "status": "completed"
    },
    "tags": []
   },
   "outputs": [
    {
     "data": {
      "text/plain": [
       "<seaborn.axisgrid.FacetGrid at 0x7d3fae8dbb90>"
      ]
     },
     "execution_count": 57,
     "metadata": {},
     "output_type": "execute_result"
    },
    {
     "data": {
      "text/plain": [
       "<Figure size 864x648 with 0 Axes>"
      ]
     },
     "metadata": {},
     "output_type": "display_data"
    },
    {
     "data": {
      "image/png": "[encoded data removed]",
      "text/plain": [
       "<Figure size 360x360 with 1 Axes>"
      ]
     },
     "metadata": {
      "needs_background": "light"
     },
     "output_type": "display_data"
    }
   ],
   "source": [
    "plt.figure(figsize=(12, 9))\n",
    "sns.catplot('Year', 'Price', data=train)"
   ]
  },
  {
   "cell_type": "code",
   "execution_count": 58,
   "metadata": {
    "_cell_guid": "d5c3071a-c3bf-4fab-bdcf-6c50e34bcc1c",
    "_uuid": "9a8b12d5-c14c-49a7-a766-caa398a6c909",
    "collapsed": false,
    "execution": {
     "iopub.execute_input": "2024-07-09T09:30:31.256432Z",
     "iopub.status.busy": "2024-07-09T09:30:31.254650Z",
     "iopub.status.idle": "2024-07-09T09:30:32.094173Z",
     "shell.execute_reply": "2024-07-09T09:30:32.093319Z",
     "shell.execute_reply.started": "2024-07-09T08:55:58.085261Z"
    },
    "jupyter": {
     "outputs_hidden": false
    },
    "papermill": {
     "duration": 0.942407,
     "end_time": "2024-07-09T09:30:32.094331",
     "exception": false,
     "start_time": "2024-07-09T09:30:31.151924",
     "status": "completed"
    },
    "tags": []
   },
   "outputs": [
    {
     "data": {
      "text/plain": [
       "<matplotlib.axes._subplots.AxesSubplot at 0x7d3fae80a690>"
      ]
     },
     "execution_count": 58,
     "metadata": {},
     "output_type": "execute_result"
    },
    {
     "data": {
      "image/png": "[encoded data removed]",
      "text/plain": [
       "<Figure size 864x648 with 1 Axes>"
      ]
     },
     "metadata": {
      "needs_background": "light"
     },
     "output_type": "display_data"
    }
   ],
   "source": [
    "plt.figure(figsize=(12, 9))\n",
    "sns.barplot('Year', 'Price', data=train)"
   ]
  },
  {
   "cell_type": "code",
   "execution_count": 59,
   "metadata": {
    "_cell_guid": "df65abaf-9ba2-443c-b7a1-65a7deaab87f",
    "_uuid": "a0afa19d-0b4e-4383-9143-75331c2e567d",
    "collapsed": false,
    "execution": {
     "iopub.execute_input": "2024-07-09T09:30:32.299177Z",
     "iopub.status.busy": "2024-07-09T09:30:32.298079Z",
     "iopub.status.idle": "2024-07-09T09:30:32.568875Z",
     "shell.execute_reply": "2024-07-09T09:30:32.568131Z",
     "shell.execute_reply.started": "2024-07-09T08:55:59.223580Z"
    },
    "jupyter": {
     "outputs_hidden": false
    },
    "papermill": {
     "duration": 0.37426,
     "end_time": "2024-07-09T09:30:32.569010",
     "exception": false,
     "start_time": "2024-07-09T09:30:32.194750",
     "status": "completed"
    },
    "tags": []
   },
   "outputs": [
    {
     "data": {
      "text/plain": [
       "<matplotlib.axes._subplots.AxesSubplot at 0x7d3faebe1690>"
      ]
     },
     "execution_count": 59,
     "metadata": {},
     "output_type": "execute_result"
    },
    {
     "data": {
      "image/png": "[encoded data removed]",
      "text/plain": [
       "<Figure size 864x648 with 1 Axes>"
      ]
     },
     "metadata": {
      "needs_background": "light"
     },
     "output_type": "display_data"
    }
   ],
   "source": [
    "plt.figure(figsize=(12, 9))\n",
    "sns.countplot('Year', data=train)"
   ]
  },
  {
   "cell_type": "code",
   "execution_count": 60,
   "metadata": {
    "_cell_guid": "f8b3c8b1-fba8-4784-a303-410a23009fc5",
    "_uuid": "56dc99ae-3fd1-4cfc-a63e-43e203586536",
    "collapsed": false,
    "execution": {
     "iopub.execute_input": "2024-07-09T09:30:32.776782Z",
     "iopub.status.busy": "2024-07-09T09:30:32.776023Z",
     "iopub.status.idle": "2024-07-09T09:30:33.022904Z",
     "shell.execute_reply": "2024-07-09T09:30:33.022137Z",
     "shell.execute_reply.started": "2024-07-09T08:55:59.539956Z"
    },
    "jupyter": {
     "outputs_hidden": false
    },
    "papermill": {
     "duration": 0.354004,
     "end_time": "2024-07-09T09:30:33.023046",
     "exception": false,
     "start_time": "2024-07-09T09:30:32.669042",
     "status": "completed"
    },
    "tags": []
   },
   "outputs": [
    {
     "data": {
      "text/plain": [
       "<matplotlib.axes._subplots.AxesSubplot at 0x7d3fae550c90>"
      ]
     },
     "execution_count": 60,
     "metadata": {},
     "output_type": "execute_result"
    },
    {
     "data": {
      "image/png": "[encoded data removed]",
      "text/plain": [
       "<Figure size 864x648 with 1 Axes>"
      ]
     },
     "metadata": {
      "needs_background": "light"
     },
     "output_type": "display_data"
    }
   ],
   "source": [
    "plt.figure(figsize=(12, 9))\n",
    "sns.countplot('Year', data=test)"
   ]
  },
  {
   "cell_type": "markdown",
   "metadata": {
    "_cell_guid": "0740850e-b14f-4781-b6e7-6bec61ca67e8",
    "_uuid": "571b6f87-6138-456c-a1af-49fd0f7f2773",
    "papermill": {
     "duration": 0.100624,
     "end_time": "2024-07-09T09:30:33.223838",
     "exception": false,
     "start_time": "2024-07-09T09:30:33.123214",
     "status": "completed"
    },
    "tags": []
   },
   "source": [
    "I guess it would be reasonable to generate a new feature like 'is_after_2014'"
   ]
  },
  {
   "cell_type": "markdown",
   "metadata": {
    "_cell_guid": "bb2dc5d4-60aa-4962-92cf-d1cb922603be",
    "_uuid": "deef608f-5d2b-47ef-bbf3-0097b17c526b",
    "papermill": {
     "duration": 0.101371,
     "end_time": "2024-07-09T09:30:33.426774",
     "exception": false,
     "start_time": "2024-07-09T09:30:33.325403",
     "status": "completed"
    },
    "tags": []
   },
   "source": [
    "## Kilometers_Driven"
   ]
  },
  {
   "cell_type": "code",
   "execution_count": 61,
   "metadata": {
    "_cell_guid": "e9d03684-999e-40e6-b55a-4d8068f847ce",
    "_uuid": "a6aa1c8e-648e-4b59-a6a1-d23137eabae7",
    "collapsed": false,
    "execution": {
     "iopub.execute_input": "2024-07-09T09:30:33.635942Z",
     "iopub.status.busy": "2024-07-09T09:30:33.630796Z",
     "iopub.status.idle": "2024-07-09T09:30:33.821214Z",
     "shell.execute_reply": "2024-07-09T09:30:33.820469Z",
     "shell.execute_reply.started": "2024-07-09T08:55:59.843000Z"
    },
    "jupyter": {
     "outputs_hidden": false
    },
    "papermill": {
     "duration": 0.295072,
     "end_time": "2024-07-09T09:30:33.821344",
     "exception": false,
     "start_time": "2024-07-09T09:30:33.526272",
     "status": "completed"
    },
    "tags": []
   },
   "outputs": [
    {
     "data": {
      "text/plain": [
       "<matplotlib.collections.PathCollection at 0x7d3fae4860d0>"
      ]
     },
     "execution_count": 61,
     "metadata": {},
     "output_type": "execute_result"
    },
    {
     "data": {
      "image/png": "[encoded data removed]",
      "text/plain": [
       "<Figure size 720x504 with 1 Axes>"
      ]
     },
     "metadata": {
      "needs_background": "light"
     },
     "output_type": "display_data"
    }
   ],
   "source": [
    "plt.figure(figsize=(10, 7))\n",
    "plt.scatter(train['Kilometers_Driven'], train['Price'])"
   ]
  },
  {
   "cell_type": "markdown",
   "metadata": {
    "_cell_guid": "f1185cbe-cdc0-4a70-baf3-b55b1a3e3f51",
    "_uuid": "347db555-11a8-449f-aaa4-eefebea9ce87",
    "papermill": {
     "duration": 0.102722,
     "end_time": "2024-07-09T09:30:34.027675",
     "exception": false,
     "start_time": "2024-07-09T09:30:33.924953",
     "status": "completed"
    },
    "tags": []
   },
   "source": [
    "Generating new feature 'is_kilometers_driven_less_80k' would be useful"
   ]
  },
  {
   "cell_type": "markdown",
   "metadata": {
    "_cell_guid": "6c05f7d8-bbd3-4125-a173-9f3dd4f95544",
    "_uuid": "0c8c396a-e264-4d25-a6fd-70752b655d56",
    "papermill": {
     "duration": 0.101829,
     "end_time": "2024-07-09T09:30:34.232532",
     "exception": false,
     "start_time": "2024-07-09T09:30:34.130703",
     "status": "completed"
    },
    "tags": []
   },
   "source": [
    "## Fuel_Type"
   ]
  },
  {
   "cell_type": "code",
   "execution_count": 62,
   "metadata": {
    "_cell_guid": "2b6c217b-3037-4d2e-b977-509762086499",
    "_uuid": "70841fd0-c38f-47fb-8ae3-6a4b8b678388",
    "collapsed": false,
    "execution": {
     "iopub.execute_input": "2024-07-09T09:30:34.448201Z",
     "iopub.status.busy": "2024-07-09T09:30:34.445457Z",
     "iopub.status.idle": "2024-07-09T09:30:34.790148Z",
     "shell.execute_reply": "2024-07-09T09:30:34.789475Z",
     "shell.execute_reply.started": "2024-07-09T08:56:00.069512Z"
    },
    "jupyter": {
     "outputs_hidden": false
    },
    "papermill": {
     "duration": 0.45619,
     "end_time": "2024-07-09T09:30:34.790286",
     "exception": false,
     "start_time": "2024-07-09T09:30:34.334096",
     "status": "completed"
    },
    "tags": []
   },
   "outputs": [
    {
     "data": {
      "text/plain": [
       "<seaborn.axisgrid.FacetGrid at 0x7d3fae482590>"
      ]
     },
     "execution_count": 62,
     "metadata": {},
     "output_type": "execute_result"
    },
    {
     "data": {
      "text/plain": [
       "<Figure size 720x504 with 0 Axes>"
      ]
     },
     "metadata": {},
     "output_type": "display_data"
    },
    {
     "data": {
      "image/png": "[encoded data removed]",
      "text/plain": [
       "<Figure size 360x360 with 1 Axes>"
      ]
     },
     "metadata": {
      "needs_background": "light"
     },
     "output_type": "display_data"
    }
   ],
   "source": [
    "plt.figure(figsize=(10, 7))\n",
    "sns.catplot('Fuel_Type', 'Price', data=train)"
   ]
  },
  {
   "cell_type": "code",
   "execution_count": 63,
   "metadata": {
    "_cell_guid": "de0a9cfd-8f51-4bf2-bde4-03c94476d6d3",
    "_uuid": "5abac483-824c-4b2e-9ee0-0dd7f9642cdc",
    "collapsed": false,
    "execution": {
     "iopub.execute_input": "2024-07-09T09:30:35.007042Z",
     "iopub.status.busy": "2024-07-09T09:30:35.005411Z",
     "iopub.status.idle": "2024-07-09T09:30:35.324671Z",
     "shell.execute_reply": "2024-07-09T09:30:35.324052Z",
     "shell.execute_reply.started": "2024-07-09T08:56:00.460494Z"
    },
    "jupyter": {
     "outputs_hidden": false
    },
    "papermill": {
     "duration": 0.429677,
     "end_time": "2024-07-09T09:30:35.324802",
     "exception": false,
     "start_time": "2024-07-09T09:30:34.895125",
     "status": "completed"
    },
    "tags": []
   },
   "outputs": [
    {
     "data": {
      "text/plain": [
       "<matplotlib.axes._subplots.AxesSubplot at 0x7d3fae4d05d0>"
      ]
     },
     "execution_count": 63,
     "metadata": {},
     "output_type": "execute_result"
    },
    {
     "data": {
      "image/png": "[encoded data removed]",
      "text/plain": [
       "<Figure size 720x504 with 1 Axes>"
      ]
     },
     "metadata": {
      "needs_background": "light"
     },
     "output_type": "display_data"
    }
   ],
   "source": [
    "plt.figure(figsize=(10, 7))\n",
    "sns.barplot('Fuel_Type', 'Price', data=train)"
   ]
  },
  {
   "cell_type": "code",
   "execution_count": 64,
   "metadata": {
    "_cell_guid": "394b85a1-7eff-479f-9477-f5ce0fc470b2",
    "_uuid": "6632fbd9-6022-48a2-91f2-30ae49a10078",
    "collapsed": false,
    "execution": {
     "iopub.execute_input": "2024-07-09T09:30:35.544871Z",
     "iopub.status.busy": "2024-07-09T09:30:35.543961Z",
     "iopub.status.idle": "2024-07-09T09:30:35.548606Z",
     "shell.execute_reply": "2024-07-09T09:30:35.548025Z",
     "shell.execute_reply.started": "2024-07-09T08:56:00.860595Z"
    },
    "jupyter": {
     "outputs_hidden": false
    },
    "papermill": {
     "duration": 0.117821,
     "end_time": "2024-07-09T09:30:35.548748",
     "exception": false,
     "start_time": "2024-07-09T09:30:35.430927",
     "status": "completed"
    },
    "tags": []
   },
   "outputs": [
    {
     "data": {
      "text/plain": [
       "Diesel    647\n",
       "Petrol    579\n",
       "CNG         6\n",
       "LPG         2\n",
       "Name: Fuel_Type, dtype: int64"
      ]
     },
     "execution_count": 64,
     "metadata": {},
     "output_type": "execute_result"
    }
   ],
   "source": [
    "test['Fuel_Type'].value_counts()"
   ]
  },
  {
   "cell_type": "markdown",
   "metadata": {
    "_cell_guid": "e8bcdc85-e85a-4d38-9c66-71bc405e2414",
    "_uuid": "e93c3d8e-c187-4917-b971-65506277954e",
    "papermill": {
     "duration": 0.106059,
     "end_time": "2024-07-09T09:30:35.760318",
     "exception": false,
     "start_time": "2024-07-09T09:30:35.654259",
     "status": "completed"
    },
    "tags": []
   },
   "source": [
    "## Transmission"
   ]
  },
  {
   "cell_type": "code",
   "execution_count": 65,
   "metadata": {
    "_cell_guid": "e0a14cb4-6b75-4b73-8b8e-70464199fb22",
    "_uuid": "0d364d48-95e9-470a-ac77-9c8aa4f38a18",
    "collapsed": false,
    "execution": {
     "iopub.execute_input": "2024-07-09T09:30:35.978559Z",
     "iopub.status.busy": "2024-07-09T09:30:35.977784Z",
     "iopub.status.idle": "2024-07-09T09:30:36.195131Z",
     "shell.execute_reply": "2024-07-09T09:30:36.194503Z",
     "shell.execute_reply.started": "2024-07-09T08:56:00.872611Z"
    },
    "jupyter": {
     "outputs_hidden": false
    },
    "papermill": {
     "duration": 0.328894,
     "end_time": "2024-07-09T09:30:36.195267",
     "exception": false,
     "start_time": "2024-07-09T09:30:35.866373",
     "status": "completed"
    },
    "tags": []
   },
   "outputs": [
    {
     "data": {
      "text/plain": [
       "<seaborn.axisgrid.FacetGrid at 0x7d3faec5ee50>"
      ]
     },
     "execution_count": 65,
     "metadata": {},
     "output_type": "execute_result"
    },
    {
     "data": {
      "text/plain": [
       "<Figure size 720x504 with 0 Axes>"
      ]
     },
     "metadata": {},
     "output_type": "display_data"
    },
    {
     "data": {
      "image/png": "[encoded data removed]",
      "text/plain": [
       "<Figure size 360x360 with 1 Axes>"
      ]
     },
     "metadata": {
      "needs_background": "light"
     },
     "output_type": "display_data"
    }
   ],
   "source": [
    "plt.figure(figsize=(10, 7))\n",
    "sns.catplot('Transmission', 'Price', data=train)"
   ]
  },
  {
   "cell_type": "code",
   "execution_count": 66,
   "metadata": {
    "_cell_guid": "0463a309-e221-4b09-b9cd-abeafc07faf7",
    "_uuid": "b3645757-8349-4b32-aa8f-88c09fe3f75b",
    "collapsed": false,
    "execution": {
     "iopub.execute_input": "2024-07-09T09:30:36.416766Z",
     "iopub.status.busy": "2024-07-09T09:30:36.415928Z",
     "iopub.status.idle": "2024-07-09T09:30:36.535888Z",
     "shell.execute_reply": "2024-07-09T09:30:36.535154Z",
     "shell.execute_reply.started": "2024-07-09T08:56:01.149903Z"
    },
    "jupyter": {
     "outputs_hidden": false
    },
    "papermill": {
     "duration": 0.234409,
     "end_time": "2024-07-09T09:30:36.536019",
     "exception": false,
     "start_time": "2024-07-09T09:30:36.301610",
     "status": "completed"
    },
    "tags": []
   },
   "outputs": [
    {
     "data": {
      "text/plain": [
       "<matplotlib.axes._subplots.AxesSubplot at 0x7d3fae3c6ed0>"
      ]
     },
     "execution_count": 66,
     "metadata": {},
     "output_type": "execute_result"
    },
    {
     "data": {
      "image/png": "[encoded data removed]",
      "text/plain": [
       "<Figure size 576x432 with 1 Axes>"
      ]
     },
     "metadata": {
      "needs_background": "light"
     },
     "output_type": "display_data"
    }
   ],
   "source": [
    "plt.figure(figsize=(8, 6))\n",
    "sns.countplot('Transmission', data=train)"
   ]
  },
  {
   "cell_type": "code",
   "execution_count": 67,
   "metadata": {
    "_cell_guid": "aa17c1a0-fe74-42e7-8459-5cf60a1cbb84",
    "_uuid": "733d167b-b1af-45e9-8d1a-2a3653be8f44",
    "collapsed": false,
    "execution": {
     "iopub.execute_input": "2024-07-09T09:30:36.759347Z",
     "iopub.status.busy": "2024-07-09T09:30:36.758528Z",
     "iopub.status.idle": "2024-07-09T09:30:36.993873Z",
     "shell.execute_reply": "2024-07-09T09:30:36.994391Z",
     "shell.execute_reply.started": "2024-07-09T08:56:01.291575Z"
    },
    "jupyter": {
     "outputs_hidden": false
    },
    "papermill": {
     "duration": 0.350318,
     "end_time": "2024-07-09T09:30:36.994594",
     "exception": false,
     "start_time": "2024-07-09T09:30:36.644276",
     "status": "completed"
    },
    "tags": []
   },
   "outputs": [
    {
     "data": {
      "text/plain": [
       "<matplotlib.axes._subplots.AxesSubplot at 0x7d3fae37a7d0>"
      ]
     },
     "execution_count": 67,
     "metadata": {},
     "output_type": "execute_result"
    },
    {
     "data": {
      "image/png": "[encoded data removed]",
      "text/plain": [
       "<Figure size 720x504 with 1 Axes>"
      ]
     },
     "metadata": {
      "needs_background": "light"
     },
     "output_type": "display_data"
    }
   ],
   "source": [
    "plt.figure(figsize=(10, 7))\n",
    "sns.barplot('Transmission', 'Price', data=train)"
   ]
  },
  {
   "cell_type": "markdown",
   "metadata": {
    "_cell_guid": "6252b286-4608-49f8-9b8c-1ad6ccdac9f4",
    "_uuid": "11520b73-0029-43b4-b6c4-9e42707ec5db",
    "papermill": {
     "duration": 0.109034,
     "end_time": "2024-07-09T09:30:37.213879",
     "exception": false,
     "start_time": "2024-07-09T09:30:37.104845",
     "status": "completed"
    },
    "tags": []
   },
   "source": [
    "Generating 'is_automatic' would be great!"
   ]
  },
  {
   "cell_type": "markdown",
   "metadata": {
    "_cell_guid": "1381bd0d-3e78-4ec0-bb4e-72be79d9c242",
    "_uuid": "8415452d-a3fc-4ab9-83be-48ef954a6c12",
    "papermill": {
     "duration": 0.109272,
     "end_time": "2024-07-09T09:30:37.432827",
     "exception": false,
     "start_time": "2024-07-09T09:30:37.323555",
     "status": "completed"
    },
    "tags": []
   },
   "source": [
    "## Owner_Type"
   ]
  },
  {
   "cell_type": "code",
   "execution_count": 68,
   "metadata": {
    "_cell_guid": "71bac204-65bc-4304-b980-f921414f6406",
    "_uuid": "77582f0e-b022-4662-84a1-fb6a2f922ad2",
    "collapsed": false,
    "execution": {
     "iopub.execute_input": "2024-07-09T09:30:37.661554Z",
     "iopub.status.busy": "2024-07-09T09:30:37.658899Z",
     "iopub.status.idle": "2024-07-09T09:30:37.895793Z",
     "shell.execute_reply": "2024-07-09T09:30:37.895167Z",
     "shell.execute_reply.started": "2024-07-09T08:56:01.582665Z"
    },
    "jupyter": {
     "outputs_hidden": false
    },
    "papermill": {
     "duration": 0.354717,
     "end_time": "2024-07-09T09:30:37.895939",
     "exception": false,
     "start_time": "2024-07-09T09:30:37.541222",
     "status": "completed"
    },
    "tags": []
   },
   "outputs": [
    {
     "data": {
      "text/plain": [
       "<seaborn.axisgrid.FacetGrid at 0x7d3fae2c2610>"
      ]
     },
     "execution_count": 68,
     "metadata": {},
     "output_type": "execute_result"
    },
    {
     "data": {
      "text/plain": [
       "<Figure size 720x504 with 0 Axes>"
      ]
     },
     "metadata": {},
     "output_type": "display_data"
    },
    {
     "data": {
      "image/png": "[encoded data removed]",
      "text/plain": [
       "<Figure size 360x360 with 1 Axes>"
      ]
     },
     "metadata": {
      "needs_background": "light"
     },
     "output_type": "display_data"
    }
   ],
   "source": [
    "plt.figure(figsize=(10, 7))\n",
    "sns.catplot('Owner_Type', 'Price', data=train)"
   ]
  },
  {
   "cell_type": "code",
   "execution_count": 69,
   "metadata": {
    "_cell_guid": "f42058c7-438b-4ce4-9d8c-f2b9f5d4c8ec",
    "_uuid": "d7ab14be-27ac-43e2-8350-ece79618e159",
    "collapsed": false,
    "execution": {
     "iopub.execute_input": "2024-07-09T09:30:38.128658Z",
     "iopub.status.busy": "2024-07-09T09:30:38.127594Z",
     "iopub.status.idle": "2024-07-09T09:30:38.402874Z",
     "shell.execute_reply": "2024-07-09T09:30:38.402316Z",
     "shell.execute_reply.started": "2024-07-09T08:56:01.868641Z"
    },
    "jupyter": {
     "outputs_hidden": false
    },
    "papermill": {
     "duration": 0.3943,
     "end_time": "2024-07-09T09:30:38.402998",
     "exception": false,
     "start_time": "2024-07-09T09:30:38.008698",
     "status": "completed"
    },
    "tags": []
   },
   "outputs": [
    {
     "data": {
      "text/plain": [
       "<matplotlib.axes._subplots.AxesSubplot at 0x7d3fae2c2c90>"
      ]
     },
     "execution_count": 69,
     "metadata": {},
     "output_type": "execute_result"
    },
    {
     "data": {
      "image/png": "[encoded data removed]",
      "text/plain": [
       "<Figure size 576x432 with 1 Axes>"
      ]
     },
     "metadata": {
      "needs_background": "light"
     },
     "output_type": "display_data"
    }
   ],
   "source": [
    "plt.figure(figsize=(8, 6))\n",
    "sns.barplot('Owner_Type', 'Price', data=train)"
   ]
  },
  {
   "cell_type": "code",
   "execution_count": 70,
   "metadata": {
    "_cell_guid": "835d2730-d0db-4bdb-8f49-527ec2d59663",
    "_uuid": "2c902e0c-79ba-4d56-9132-b85ffa35815c",
    "collapsed": false,
    "execution": {
     "iopub.execute_input": "2024-07-09T09:30:38.632863Z",
     "iopub.status.busy": "2024-07-09T09:30:38.631760Z",
     "iopub.status.idle": "2024-07-09T09:30:38.770550Z",
     "shell.execute_reply": "2024-07-09T09:30:38.769710Z",
     "shell.execute_reply.started": "2024-07-09T08:56:02.226620Z"
    },
    "jupyter": {
     "outputs_hidden": false
    },
    "papermill": {
     "duration": 0.256327,
     "end_time": "2024-07-09T09:30:38.770716",
     "exception": false,
     "start_time": "2024-07-09T09:30:38.514389",
     "status": "completed"
    },
    "tags": []
   },
   "outputs": [
    {
     "data": {
      "text/plain": [
       "<matplotlib.axes._subplots.AxesSubplot at 0x7d3fae147d10>"
      ]
     },
     "execution_count": 70,
     "metadata": {},
     "output_type": "execute_result"
    },
    {
     "data": {
      "image/png": "[encoded data removed]",
      "text/plain": [
       "<Figure size 576x432 with 1 Axes>"
      ]
     },
     "metadata": {
      "needs_background": "light"
     },
     "output_type": "display_data"
    }
   ],
   "source": [
    "plt.figure(figsize=(8, 6))\n",
    "sns.countplot('Owner_Type', data=train)"
   ]
  },
  {
   "cell_type": "markdown",
   "metadata": {
    "_cell_guid": "e3e59506-79f7-4a51-8c45-ac266129fbfa",
    "_uuid": "7a3789f9-5a9a-403c-abff-46caaca45e7d",
    "papermill": {
     "duration": 0.111289,
     "end_time": "2024-07-09T09:30:38.997150",
     "exception": false,
     "start_time": "2024-07-09T09:30:38.885861",
     "status": "completed"
    },
    "tags": []
   },
   "source": [
    "## Seats"
   ]
  },
  {
   "cell_type": "code",
   "execution_count": 71,
   "metadata": {
    "_cell_guid": "d2940a37-ef84-4a15-8f86-37109d9ff0f2",
    "_uuid": "963c0e3a-01b4-49b5-a3dd-3d7933a6afa6",
    "collapsed": false,
    "execution": {
     "iopub.execute_input": "2024-07-09T09:30:39.232040Z",
     "iopub.status.busy": "2024-07-09T09:30:39.231223Z",
     "iopub.status.idle": "2024-07-09T09:30:39.236621Z",
     "shell.execute_reply": "2024-07-09T09:30:39.237103Z",
     "shell.execute_reply.started": "2024-07-09T08:56:02.396218Z"
    },
    "jupyter": {
     "outputs_hidden": false
    },
    "papermill": {
     "duration": 0.127322,
     "end_time": "2024-07-09T09:30:39.237279",
     "exception": false,
     "start_time": "2024-07-09T09:30:39.109957",
     "status": "completed"
    },
    "tags": []
   },
   "outputs": [
    {
     "name": "stdout",
     "output_type": "stream",
     "text": [
      "5.0     5049\n",
      "7.0      674\n",
      "8.0      134\n",
      "4.0       99\n",
      "6.0       31\n",
      "2.0       16\n",
      "10.0       5\n",
      "9.0        3\n",
      "0.0        1\n",
      "Name: Seats, dtype: int64\n",
      "5.0     1044\n",
      "7.0      122\n",
      "8.0       36\n",
      "4.0       20\n",
      "6.0        7\n",
      "10.0       3\n",
      "2.0        2\n",
      "Name: Seats, dtype: int64\n"
     ]
    }
   ],
   "source": [
    "print(train['Seats'].value_counts())\n",
    "print(test['Seats'].value_counts())"
   ]
  },
  {
   "cell_type": "code",
   "execution_count": 72,
   "metadata": {
    "_cell_guid": "7d12530e-9352-4b54-afd1-4e1924530029",
    "_uuid": "1d315cbe-fb5e-4b71-a4d4-ce5039582639",
    "collapsed": false,
    "execution": {
     "iopub.execute_input": "2024-07-09T09:30:39.471881Z",
     "iopub.status.busy": "2024-07-09T09:30:39.470779Z",
     "iopub.status.idle": "2024-07-09T09:30:39.475126Z",
     "shell.execute_reply": "2024-07-09T09:30:39.474424Z",
     "shell.execute_reply.started": "2024-07-09T08:56:02.533515Z"
    },
    "jupyter": {
     "outputs_hidden": false
    },
    "papermill": {
     "duration": 0.12394,
     "end_time": "2024-07-09T09:30:39.475262",
     "exception": false,
     "start_time": "2024-07-09T09:30:39.351322",
     "status": "completed"
    },
    "tags": []
   },
   "outputs": [
    {
     "data": {
      "text/plain": [
       "0"
      ]
     },
     "execution_count": 72,
     "metadata": {},
     "output_type": "execute_result"
    }
   ],
   "source": [
    "train['Seats'].isna().sum()"
   ]
  },
  {
   "cell_type": "code",
   "execution_count": 73,
   "metadata": {
    "_cell_guid": "fa1923c9-4b9e-4ed9-ab33-b69d9e724567",
    "_uuid": "7ce06851-f0ca-4641-8591-26825acbca5b",
    "collapsed": false,
    "execution": {
     "iopub.execute_input": "2024-07-09T09:30:39.734528Z",
     "iopub.status.busy": "2024-07-09T09:30:39.733611Z",
     "iopub.status.idle": "2024-07-09T09:30:39.739662Z",
     "shell.execute_reply": "2024-07-09T09:30:39.739012Z",
     "shell.execute_reply.started": "2024-07-09T08:56:02.856633Z"
    },
    "jupyter": {
     "outputs_hidden": false
    },
    "papermill": {
     "duration": 0.145903,
     "end_time": "2024-07-09T09:30:39.739796",
     "exception": false,
     "start_time": "2024-07-09T09:30:39.593893",
     "status": "completed"
    },
    "tags": []
   },
   "outputs": [
    {
     "name": "stdout",
     "output_type": "stream",
     "text": [
      "(6012, 12)\n",
      "(6011, 12)\n"
     ]
    }
   ],
   "source": [
    "print(train.shape)\n",
    "train = train[train['Seats'] != 0]\n",
    "print(train.shape)"
   ]
  },
  {
   "cell_type": "code",
   "execution_count": 74,
   "metadata": {
    "_cell_guid": "cd24dd2c-0766-46c1-96a9-71ed28f4c353",
    "_uuid": "12dbd7d3-31bb-43a8-929f-b47c6252f19e",
    "collapsed": false,
    "execution": {
     "iopub.execute_input": "2024-07-09T09:30:39.975086Z",
     "iopub.status.busy": "2024-07-09T09:30:39.974204Z",
     "iopub.status.idle": "2024-07-09T09:30:39.977753Z",
     "shell.execute_reply": "2024-07-09T09:30:39.976989Z",
     "shell.execute_reply.started": "2024-07-09T08:56:03.174775Z"
    },
    "jupyter": {
     "outputs_hidden": false
    },
    "papermill": {
     "duration": 0.123522,
     "end_time": "2024-07-09T09:30:39.977893",
     "exception": false,
     "start_time": "2024-07-09T09:30:39.854371",
     "status": "completed"
    },
    "tags": []
   },
   "outputs": [],
   "source": [
    "train['Seats'].fillna(train['Seats'].median(), inplace=True)"
   ]
  },
  {
   "cell_type": "code",
   "execution_count": 75,
   "metadata": {
    "_cell_guid": "f267ff53-dbc5-4302-882c-096d73500907",
    "_uuid": "8c1df3b5-853a-4e03-a4d2-e2decaabf79f",
    "collapsed": false,
    "execution": {
     "iopub.execute_input": "2024-07-09T09:30:40.216024Z",
     "iopub.status.busy": "2024-07-09T09:30:40.213510Z",
     "iopub.status.idle": "2024-07-09T09:30:40.489249Z",
     "shell.execute_reply": "2024-07-09T09:30:40.489795Z",
     "shell.execute_reply.started": "2024-07-09T08:56:03.459545Z"
    },
    "jupyter": {
     "outputs_hidden": false
    },
    "papermill": {
     "duration": 0.396376,
     "end_time": "2024-07-09T09:30:40.489996",
     "exception": false,
     "start_time": "2024-07-09T09:30:40.093620",
     "status": "completed"
    },
    "tags": []
   },
   "outputs": [
    {
     "data": {
      "text/plain": [
       "<seaborn.axisgrid.FacetGrid at 0x7d3fae1e9850>"
      ]
     },
     "execution_count": 75,
     "metadata": {},
     "output_type": "execute_result"
    },
    {
     "data": {
      "text/plain": [
       "<Figure size 576x432 with 0 Axes>"
      ]
     },
     "metadata": {},
     "output_type": "display_data"
    },
    {
     "data": {
      "image/png": "[encoded data removed]",
      "text/plain": [
       "<Figure size 360x360 with 1 Axes>"
      ]
     },
     "metadata": {
      "needs_background": "light"
     },
     "output_type": "display_data"
    }
   ],
   "source": [
    "plt.figure(figsize=(8, 6))\n",
    "sns.catplot('Seats', 'Price', data=train)"
   ]
  },
  {
   "cell_type": "code",
   "execution_count": 76,
   "metadata": {
    "_cell_guid": "b76b89fe-9140-411d-955f-c99a30978765",
    "_uuid": "4eeb2401-3221-4ea0-92b5-0fea123d8ff2",
    "collapsed": false,
    "execution": {
     "iopub.execute_input": "2024-07-09T09:30:40.729807Z",
     "iopub.status.busy": "2024-07-09T09:30:40.728705Z",
     "iopub.status.idle": "2024-07-09T09:30:41.131968Z",
     "shell.execute_reply": "2024-07-09T09:30:41.131200Z",
     "shell.execute_reply.started": "2024-07-09T08:56:03.784709Z"
    },
    "jupyter": {
     "outputs_hidden": false
    },
    "papermill": {
     "duration": 0.526693,
     "end_time": "2024-07-09T09:30:41.132104",
     "exception": false,
     "start_time": "2024-07-09T09:30:40.605411",
     "status": "completed"
    },
    "tags": []
   },
   "outputs": [
    {
     "data": {
      "text/plain": [
       "<matplotlib.axes._subplots.AxesSubplot at 0x7d3fae11eb90>"
      ]
     },
     "execution_count": 76,
     "metadata": {},
     "output_type": "execute_result"
    },
    {
     "data": {
      "image/png": "[encoded data removed]",
      "text/plain": [
       "<Figure size 576x432 with 1 Axes>"
      ]
     },
     "metadata": {
      "needs_background": "light"
     },
     "output_type": "display_data"
    }
   ],
   "source": [
    "plt.figure(figsize=(8, 6))\n",
    "sns.barplot('Seats', 'Price', data=train)"
   ]
  },
  {
   "cell_type": "code",
   "execution_count": 77,
   "metadata": {
    "_cell_guid": "099e1c37-0ae1-485e-9090-fb38494ec057",
    "_uuid": "63b2c478-e492-4aec-9438-2091ca5538d0",
    "collapsed": false,
    "execution": {
     "iopub.execute_input": "2024-07-09T09:30:41.372325Z",
     "iopub.status.busy": "2024-07-09T09:30:41.371357Z",
     "iopub.status.idle": "2024-07-09T09:30:41.526642Z",
     "shell.execute_reply": "2024-07-09T09:30:41.525784Z",
     "shell.execute_reply.started": "2024-07-09T08:56:04.334242Z"
    },
    "jupyter": {
     "outputs_hidden": false
    },
    "papermill": {
     "duration": 0.276648,
     "end_time": "2024-07-09T09:30:41.526800",
     "exception": false,
     "start_time": "2024-07-09T09:30:41.250152",
     "status": "completed"
    },
    "tags": []
   },
   "outputs": [
    {
     "data": {
      "text/plain": [
       "<matplotlib.axes._subplots.AxesSubplot at 0x7d3fae03b290>"
      ]
     },
     "execution_count": 77,
     "metadata": {},
     "output_type": "execute_result"
    },
    {
     "data": {
      "image/png": "[encoded data removed]",
      "text/plain": [
       "<Figure size 576x432 with 1 Axes>"
      ]
     },
     "metadata": {
      "needs_background": "light"
     },
     "output_type": "display_data"
    }
   ],
   "source": [
    "plt.figure(figsize=(8, 6))\n",
    "sns.countplot('Seats', data=train)"
   ]
  },
  {
   "cell_type": "markdown",
   "metadata": {
    "_cell_guid": "d510c86a-ff61-4eda-8fb1-372351cccdc7",
    "_uuid": "b8f6961d-53f6-4ada-af6f-248119a77259",
    "papermill": {
     "duration": 0.118644,
     "end_time": "2024-07-09T09:30:41.763938",
     "exception": false,
     "start_time": "2024-07-09T09:30:41.645294",
     "status": "completed"
    },
    "tags": []
   },
   "source": [
    "# Encoding Categorical Features"
   ]
  },
  {
   "cell_type": "code",
   "execution_count": 78,
   "metadata": {
    "_cell_guid": "bcc2b61e-e4d6-4441-9297-7fca11416171",
    "_uuid": "0466f412-48cb-46aa-bbc2-a5911991875c",
    "collapsed": false,
    "execution": {
     "iopub.execute_input": "2024-07-09T09:30:42.004334Z",
     "iopub.status.busy": "2024-07-09T09:30:42.003569Z",
     "iopub.status.idle": "2024-07-09T09:30:42.018967Z",
     "shell.execute_reply": "2024-07-09T09:30:42.019568Z",
     "shell.execute_reply.started": "2024-07-09T08:56:04.543252Z"
    },
    "jupyter": {
     "outputs_hidden": false
    },
    "papermill": {
     "duration": 0.13902,
     "end_time": "2024-07-09T09:30:42.019751",
     "exception": false,
     "start_time": "2024-07-09T09:30:41.880731",
     "status": "completed"
    },
    "tags": []
   },
   "outputs": [
    {
     "name": "stdout",
     "output_type": "stream",
     "text": [
      "Location 11\n",
      "Year 22\n",
      "Kilometers_Driven 3087\n",
      "Fuel_Type 5\n",
      "Transmission 2\n",
      "Owner_Type 4\n",
      "Seats 8\n",
      "Price 1373\n",
      "Mileage_value 430\n",
      "Mileage_measure 2\n",
      "Engine_value 145\n",
      "Power_value 372\n"
     ]
    }
   ],
   "source": [
    "for i in train.columns:\n",
    "    print(i, len(train[i].unique()))"
   ]
  },
  {
   "cell_type": "code",
   "execution_count": 79,
   "metadata": {
    "_cell_guid": "ad22f045-eade-4ad6-8e69-a757f71b496e",
    "_uuid": "c21cc47d-3f7d-4e0b-a4d7-2a9b06299f30",
    "collapsed": false,
    "execution": {
     "iopub.execute_input": "2024-07-09T09:30:42.267051Z",
     "iopub.status.busy": "2024-07-09T09:30:42.266023Z",
     "iopub.status.idle": "2024-07-09T09:30:42.277385Z",
     "shell.execute_reply": "2024-07-09T09:30:42.276678Z",
     "shell.execute_reply.started": "2024-07-09T08:56:04.813951Z"
    },
    "jupyter": {
     "outputs_hidden": false
    },
    "papermill": {
     "duration": 0.136151,
     "end_time": "2024-07-09T09:30:42.277533",
     "exception": false,
     "start_time": "2024-07-09T09:30:42.141382",
     "status": "completed"
    },
    "tags": []
   },
   "outputs": [],
   "source": [
    "train['Kilometers_Binned'] = pd.cut(train['Kilometers_Driven'], bins=4)"
   ]
  },
  {
   "cell_type": "code",
   "execution_count": 80,
   "metadata": {
    "_cell_guid": "94506648-8058-473d-8561-f074444a510e",
    "_uuid": "08789352-a518-4559-a100-cd32d773b317",
    "collapsed": false,
    "execution": {
     "iopub.execute_input": "2024-07-09T09:30:42.524014Z",
     "iopub.status.busy": "2024-07-09T09:30:42.522357Z",
     "iopub.status.idle": "2024-07-09T09:30:42.556599Z",
     "shell.execute_reply": "2024-07-09T09:30:42.555797Z",
     "shell.execute_reply.started": "2024-07-09T08:56:05.115247Z"
    },
    "jupyter": {
     "outputs_hidden": false
    },
    "papermill": {
     "duration": 0.159866,
     "end_time": "2024-07-09T09:30:42.556755",
     "exception": false,
     "start_time": "2024-07-09T09:30:42.396889",
     "status": "completed"
    },
    "tags": []
   },
   "outputs": [],
   "source": [
    "ohe_cols = ['Fuel_Type', 'Seats', 'Owner_Type']\n",
    "binary_cols = ['Mileage_measure', 'Transmission']\n",
    "train = pd.get_dummies(train, columns=ohe_cols)\n",
    "train = pd.get_dummies(train, columns=binary_cols, drop_first=True)\n",
    "\n",
    "test = pd.get_dummies(test, columns=ohe_cols)\n",
    "test = pd.get_dummies(test, columns=binary_cols, drop_first=True)"
   ]
  },
  {
   "cell_type": "code",
   "execution_count": 81,
   "metadata": {
    "_cell_guid": "ccf7555d-efa9-4c0e-a4ad-26d2ecfff985",
    "_uuid": "b523db1f-0ce9-49b1-8c33-b93da6ac6ef9",
    "collapsed": false,
    "execution": {
     "iopub.execute_input": "2024-07-09T09:30:42.801303Z",
     "iopub.status.busy": "2024-07-09T09:30:42.800221Z",
     "iopub.status.idle": "2024-07-09T09:30:42.819162Z",
     "shell.execute_reply": "2024-07-09T09:30:42.818568Z",
     "shell.execute_reply.started": "2024-07-09T08:56:05.462759Z"
    },
    "jupyter": {
     "outputs_hidden": false
    },
    "papermill": {
     "duration": 0.144104,
     "end_time": "2024-07-09T09:30:42.819299",
     "exception": false,
     "start_time": "2024-07-09T09:30:42.675195",
     "status": "completed"
    },
    "tags": []
   },
   "outputs": [
    {
     "name": "stdout",
     "output_type": "stream",
     "text": [
      "<class 'pandas.core.frame.DataFrame'>\n",
      "Index: 6011 entries, 0 to 6018\n",
      "Data columns (total 27 columns):\n",
      " #   Column                     Non-Null Count  Dtype   \n",
      "---  ------                     --------------  -----   \n",
      " 0   Location                   6011 non-null   object  \n",
      " 1   Year                       6011 non-null   int64   \n",
      " 2   Kilometers_Driven          6011 non-null   int64   \n",
      " 3   Price                      6011 non-null   float64 \n",
      " 4   Mileage_value              6011 non-null   object  \n",
      " 5   Engine_value               6011 non-null   object  \n",
      " 6   Power_value                6011 non-null   object  \n",
      " 7   Kilometers_Binned          6011 non-null   category\n",
      " 8   Fuel_Type_CNG              6011 non-null   uint8   \n",
      " 9   Fuel_Type_Diesel           6011 non-null   uint8   \n",
      " 10  Fuel_Type_Electric         6011 non-null   uint8   \n",
      " 11  Fuel_Type_LPG              6011 non-null   uint8   \n",
      " 12  Fuel_Type_Petrol           6011 non-null   uint8   \n",
      " 13  Seats_2.0                  6011 non-null   uint8   \n",
      " 14  Seats_4.0                  6011 non-null   uint8   \n",
      " 15  Seats_5.0                  6011 non-null   uint8   \n",
      " 16  Seats_6.0                  6011 non-null   uint8   \n",
      " 17  Seats_7.0                  6011 non-null   uint8   \n",
      " 18  Seats_8.0                  6011 non-null   uint8   \n",
      " 19  Seats_9.0                  6011 non-null   uint8   \n",
      " 20  Seats_10.0                 6011 non-null   uint8   \n",
      " 21  Owner_Type_First           6011 non-null   uint8   \n",
      " 22  Owner_Type_Fourth & Above  6011 non-null   uint8   \n",
      " 23  Owner_Type_Second          6011 non-null   uint8   \n",
      " 24  Owner_Type_Third           6011 non-null   uint8   \n",
      " 25  Mileage_measure_kmpl       6011 non-null   uint8   \n",
      " 26  Transmission_Manual        6011 non-null   uint8   \n",
      "dtypes: category(1), float64(1), int64(2), object(4), uint8(19)\n",
      "memory usage: 653.3+ KB\n"
     ]
    }
   ],
   "source": [
    "train.info()"
   ]
  },
  {
   "cell_type": "code",
   "execution_count": 82,
   "metadata": {
    "_cell_guid": "1432556f-3644-4186-a37e-e44c2daf89b7",
    "_uuid": "f95128c8-c400-4e53-85f6-74aeb49d51da",
    "collapsed": false,
    "execution": {
     "iopub.execute_input": "2024-07-09T09:30:43.081081Z",
     "iopub.status.busy": "2024-07-09T09:30:43.080053Z",
     "iopub.status.idle": "2024-07-09T09:30:43.112324Z",
     "shell.execute_reply": "2024-07-09T09:30:43.111752Z",
     "shell.execute_reply.started": "2024-07-09T08:56:06.310446Z"
    },
    "jupyter": {
     "outputs_hidden": false
    },
    "papermill": {
     "duration": 0.171674,
     "end_time": "2024-07-09T09:30:43.112469",
     "exception": false,
     "start_time": "2024-07-09T09:30:42.940795",
     "status": "completed"
    },
    "tags": []
   },
   "outputs": [],
   "source": [
    "le = LabelEncoder()\n",
    "for col in train.select_dtypes(include=['object','category']):\n",
    "    train[col] = le.fit_transform(train[col])\n",
    "for col in test.select_dtypes(include=['object','category']):\n",
    "    test[col] = le.fit_transform(test[col])"
   ]
  },
  {
   "cell_type": "code",
   "execution_count": 83,
   "metadata": {
    "_cell_guid": "021b4cc0-3247-4fcd-afed-7c59e550f3ea",
    "_uuid": "b91b373e-f089-4fb5-97cf-3d10620427ae",
    "collapsed": false,
    "execution": {
     "iopub.execute_input": "2024-07-09T09:30:43.362567Z",
     "iopub.status.busy": "2024-07-09T09:30:43.361643Z",
     "iopub.status.idle": "2024-07-09T09:30:45.795828Z",
     "shell.execute_reply": "2024-07-09T09:30:45.795092Z",
     "shell.execute_reply.started": "2024-07-09T08:56:07.353708Z"
    },
    "jupyter": {
     "outputs_hidden": false
    },
    "papermill": {
     "duration": 2.564201,
     "end_time": "2024-07-09T09:30:45.795961",
     "exception": false,
     "start_time": "2024-07-09T09:30:43.231760",
     "status": "completed"
    },
    "tags": []
   },
   "outputs": [
    {
     "data": {
      "image/png": "[encoded data removed]",
      "text/plain": [
       "<Figure size 1440x720 with 2 Axes>"
      ]
     },
     "metadata": {
      "needs_background": "light"
     },
     "output_type": "display_data"
    },
    {
     "name": "stdout",
     "output_type": "stream",
     "text": [
      "Top 3 features highly correlated with 'Price' are: Transmission_Manual Fuel_Type_Diesel Fuel_Type_Petrol\n",
      "\n"
     ]
    },
    {
     "data": {
      "image/png": "[encoded data removed]",
      "text/plain": [
       "<Figure size 720x432 with 1 Axes>"
      ]
     },
     "metadata": {
      "needs_background": "light"
     },
     "output_type": "display_data"
    },
    {
     "data": {
      "image/png": "[encoded data removed]",
      "text/plain": [
       "<Figure size 720x432 with 1 Axes>"
      ]
     },
     "metadata": {
      "needs_background": "light"
     },
     "output_type": "display_data"
    },
    {
     "data": {
      "image/png": "[encoded data removed]",
      "text/plain": [
       "<Figure size 720x432 with 1 Axes>"
      ]
     },
     "metadata": {
      "needs_background": "light"
     },
     "output_type": "display_data"
    }
   ],
   "source": [
    "corr_matrix = train.corr()\n",
    "fig, ax = plt.subplots(figsize=(20, 10))\n",
    "mask = np.zeros_like(corr_matrix, dtype=bool)\n",
    "mask[np.triu_indices_from(mask)] = True\n",
    "sns.heatmap(corr_matrix, cmap=sns.diverging_palette(20, 220, n=200), annot=True, mask=mask, center=0)\n",
    "plt.title('Correlation Matrix')\n",
    "plt.show()\n",
    "\n",
    "# Find the top 3 features that have the highest correlation with the target variable 'Price'\n",
    "top_features = corr_matrix['Price'].abs().sort_values(ascending=False).index[1:4]\n",
    "print(\"Top 3 features highly correlated with 'Price' are:\", top_features[0], top_features[1], top_features[2])\n",
    "print()\n",
    "# Plot scatter plots for the top 3 features against 'Price'\n",
    "for feature in top_features:\n",
    "    plt.figure(figsize=(10, 6))\n",
    "    sns.scatterplot(data=train, x=feature, y='Price')\n",
    "    plt.title(f'Scatter Plot: {feature} vs Price')\n",
    "    plt.xlabel(feature)\n",
    "    plt.ylabel('Price')\n",
    "    plt.show()"
   ]
  },
  {
   "cell_type": "code",
   "execution_count": 84,
   "metadata": {
    "_cell_guid": "922cfbd1-1304-4ce9-b0c2-91b411e27a40",
    "_uuid": "9d7c273c-900d-417e-a776-887c1d24db36",
    "collapsed": false,
    "execution": {
     "iopub.execute_input": "2024-07-09T09:30:46.074305Z",
     "iopub.status.busy": "2024-07-09T09:30:46.073407Z",
     "iopub.status.idle": "2024-07-09T09:30:46.095100Z",
     "shell.execute_reply": "2024-07-09T09:30:46.094434Z",
     "shell.execute_reply.started": "2024-07-09T08:56:10.763351Z"
    },
    "jupyter": {
     "outputs_hidden": false
    },
    "papermill": {
     "duration": 0.16403,
     "end_time": "2024-07-09T09:30:46.095246",
     "exception": false,
     "start_time": "2024-07-09T09:30:45.931216",
     "status": "completed"
    },
    "tags": []
   },
   "outputs": [],
   "source": [
    "train_target = train['Price']\n",
    "train = train.drop(columns=['Price'])\n",
    "feature_names = train.columns.tolist()\n",
    "scaler = StandardScaler()\n",
    "train = scaler.fit_transform(train)\n",
    "X_train, X_dev, y_train, y_dev = train_test_split(train, train_target, test_size=0.2, random_state=42)"
   ]
  },
  {
   "cell_type": "code",
   "execution_count": 85,
   "metadata": {
    "_cell_guid": "3f2c0941-0413-43cc-82e0-5c3ea8c46c1e",
    "_uuid": "73545cf5-80b7-4af3-b93c-2c4297d22bb9",
    "collapsed": false,
    "execution": {
     "iopub.execute_input": "2024-07-09T09:30:46.395466Z",
     "iopub.status.busy": "2024-07-09T09:30:46.394350Z",
     "iopub.status.idle": "2024-07-09T09:30:46.396611Z",
     "shell.execute_reply": "2024-07-09T09:30:46.397185Z",
     "shell.execute_reply.started": "2024-07-09T08:56:54.386704Z"
    },
    "jupyter": {
     "outputs_hidden": false
    },
    "papermill": {
     "duration": 0.155642,
     "end_time": "2024-07-09T09:30:46.397352",
     "exception": false,
     "start_time": "2024-07-09T09:30:46.241710",
     "status": "completed"
    },
    "tags": []
   },
   "outputs": [],
   "source": [
    "# Function to perform grid search and return best model and its RMSE\n",
    "def perform_grid_search(model, param_grid, X_train, y_train):\n",
    "    grid_search = GridSearchCV(model, param_grid, cv=5, scoring='neg_mean_squared_error', verbose=0)\n",
    "    grid_search.fit(X_train, y_train)\n",
    "    return grid_search"
   ]
  },
  {
   "cell_type": "code",
   "execution_count": 86,
   "metadata": {
    "_cell_guid": "6795903e-20b5-43d1-a63e-970e70247974",
    "_uuid": "e5c977bc-575c-454f-9c99-9b156a1b882d",
    "collapsed": false,
    "execution": {
     "iopub.execute_input": "2024-07-09T09:30:46.666143Z",
     "iopub.status.busy": "2024-07-09T09:30:46.665314Z",
     "iopub.status.idle": "2024-07-09T09:30:46.668849Z",
     "shell.execute_reply": "2024-07-09T09:30:46.668218Z",
     "shell.execute_reply.started": "2024-07-09T09:13:03.118133Z"
    },
    "jupyter": {
     "outputs_hidden": false
    },
    "papermill": {
     "duration": 0.140804,
     "end_time": "2024-07-09T09:30:46.669005",
     "exception": false,
     "start_time": "2024-07-09T09:30:46.528201",
     "status": "completed"
    },
    "tags": []
   },
   "outputs": [],
   "source": [
    "# Define parameter grids for each model\n",
    "lgb_param_grid = {\n",
    "    'num_leaves': [20, 40, 60],\n",
    "    'learning_rate': [0.01, 0.1, 0.2],\n",
    "    'n_estimators': [50, 150, 250],\n",
    "    'reg_alpha': [0.0, 0.2, 0.4],\n",
    "    'reg_lambda': [0.0, 0.2, 0.4]\n",
    "}\n",
    "\n",
    "xgb_param_grid = {\n",
    "    'max_depth': [3, 5, 7],\n",
    "    'learning_rate': [0.01, 0.1, 0.2],\n",
    "    'n_estimators': [100, 200, 500],\n",
    "    'gamma': [0,0.2, 0.4],\n",
    "    'subsample': [0.6, 0.8, 1.0]\n",
    "}\n",
    "\n",
    "et_param_grid = {\n",
    "    'n_estimators': [100, 200, 350],\n",
    "    'max_features': ['auto', 'sqrt', 'log2'],\n",
    "    'min_samples_split': [2, 10, 20],\n",
    "    'min_samples_leaf': [1, 4, 8],\n",
    "    'max_depth': [None, 20, 30]\n",
    "}"
   ]
  },
  {
   "cell_type": "code",
   "execution_count": 87,
   "metadata": {
    "_cell_guid": "eba5e294-6677-4abd-9bb1-d39cc9d8f39a",
    "_uuid": "d67f22fc-47da-433f-9521-a5fddb3b34ac",
    "collapsed": false,
    "execution": {
     "iopub.execute_input": "2024-07-09T09:30:46.941221Z",
     "iopub.status.busy": "2024-07-09T09:30:46.940452Z",
     "iopub.status.idle": "2024-07-09T10:11:09.774026Z",
     "shell.execute_reply": "2024-07-09T10:11:09.774648Z",
     "shell.execute_reply.started": "2024-07-09T09:13:08.380024Z"
    },
    "jupyter": {
     "outputs_hidden": false
    },
    "papermill": {
     "duration": 2422.976532,
     "end_time": "2024-07-09T10:11:09.774885",
     "exception": false,
     "start_time": "2024-07-09T09:30:46.798353",
     "status": "completed"
    },
    "tags": []
   },
   "outputs": [
    {
     "name": "stdout",
     "output_type": "stream",
     "text": [
      "Best LightGBM Parameters:  {'learning_rate': 0.2, 'n_estimators': 250, 'num_leaves': 20, 'reg_alpha': 0.4, 'reg_lambda': 0.4}\n",
      "Best LightGBM RMSE:  3.766584022451045\n",
      "Best XGBoost Parameters:  {'gamma': 0.2, 'learning_rate': 0.1, 'max_depth': 5, 'n_estimators': 500, 'subsample': 1.0}\n",
      "Best XGBoost RMSE:  3.685142518069852\n",
      "Best ExtraTrees Parameters:  {'max_depth': 20, 'max_features': 'auto', 'min_samples_leaf': 1, 'min_samples_split': 2, 'n_estimators': 100}\n",
      "Best ExtraTrees RMSE:  4.289100732924082\n"
     ]
    }
   ],
   "source": [
    "# Perform grid search for each model\n",
    "lgb_grid_search = perform_grid_search(lgb.LGBMRegressor(), lgb_param_grid, X_train, y_train)\n",
    "print(\"Best LightGBM Parameters: \", lgb_grid_search.best_params_)\n",
    "print(\"Best LightGBM RMSE: \", np.sqrt(np.abs(lgb_grid_search.best_score_)))\n",
    "\n",
    "xgb_grid_search = perform_grid_search(xgb.XGBRegressor(), xgb_param_grid, X_train, y_train)\n",
    "print(\"Best XGBoost Parameters: \", xgb_grid_search.best_params_)\n",
    "print(\"Best XGBoost RMSE: \", np.sqrt(np.abs(xgb_grid_search.best_score_)))\n",
    "\n",
    "et_grid_search = perform_grid_search(ExtraTreesRegressor(), et_param_grid, X_train, y_train)\n",
    "print(\"Best ExtraTrees Parameters: \", et_grid_search.best_params_)\n",
    "print(\"Best ExtraTrees RMSE: \", np.sqrt(np.abs(et_grid_search.best_score_)))"
   ]
  },
  {
   "cell_type": "code",
   "execution_count": 88,
   "metadata": {
    "execution": {
     "iopub.execute_input": "2024-07-09T10:11:10.052992Z",
     "iopub.status.busy": "2024-07-09T10:11:10.052230Z",
     "iopub.status.idle": "2024-07-09T10:11:11.250457Z",
     "shell.execute_reply": "2024-07-09T10:11:11.249733Z",
     "shell.execute_reply.started": "2024-07-09T09:13:54.738293Z"
    },
    "papermill": {
     "duration": 1.343974,
     "end_time": "2024-07-09T10:11:11.250601",
     "exception": false,
     "start_time": "2024-07-09T10:11:09.906627",
     "status": "completed"
    },
    "tags": []
   },
   "outputs": [
    {
     "data": {
      "image/png": "[encoded data removed]",
      "text/plain": [
       "<Figure size 1440x576 with 3 Axes>"
      ]
     },
     "metadata": {
      "needs_background": "light"
     },
     "output_type": "display_data"
    }
   ],
   "source": [
    "# Feature importance\n",
    "lgb_best_model = lgb_grid_search.best_estimator_\n",
    "xgb_best_model = xgb_grid_search.best_estimator_\n",
    "et_best_model = et_grid_search.best_estimator_\n",
    "\n",
    "lgb_importance = lgb_best_model.feature_importances_\n",
    "xgb_importance = xgb_best_model.feature_importances_\n",
    "et_importance = et_best_model.feature_importances_\n",
    "\n",
    "# Create DataFrames to hold feature importances for each model\n",
    "lgb_feature_importance_df = pd.DataFrame({\n",
    "    'Feature': feature_names,\n",
    "    'Importance': lgb_importance\n",
    "}).sort_values(by='Importance', ascending=False)\n",
    "\n",
    "xgb_feature_importance_df = pd.DataFrame({\n",
    "    'Feature': feature_names,\n",
    "    'Importance': xgb_importance\n",
    "}).sort_values(by='Importance', ascending=False)\n",
    "\n",
    "et_feature_importance_df = pd.DataFrame({\n",
    "    'Feature': feature_names,\n",
    "    'Importance': et_importance\n",
    "}).sort_values(by='Importance', ascending=False)\n",
    "\n",
    "# Plot the feature importances using seaborn on subplots\n",
    "fig, axes = plt.subplots(1, 3, figsize=(20, 8), sharey=True)\n",
    "\n",
    "# LightGBM plot\n",
    "sns.barplot(ax=axes[0], x='Importance', y='Feature', data=lgb_feature_importance_df, palette='viridis')\n",
    "axes[0].set_title('Feature Importances - LightGBM')\n",
    "axes[0].set_xlabel('Importance Score')\n",
    "axes[0].set_ylabel('Features')\n",
    "\n",
    "# XGBoost plot\n",
    "sns.barplot(ax=axes[1], x='Importance', y='Feature', data=xgb_feature_importance_df, palette='viridis')\n",
    "axes[1].set_title('Feature Importances - XGBoost')\n",
    "axes[1].set_xlabel('Importance Score')\n",
    "axes[1].set_ylabel('')\n",
    "\n",
    "# ExtraTrees plot\n",
    "sns.barplot(ax=axes[2], x='Importance', y='Feature', data=et_feature_importance_df, palette='viridis')\n",
    "axes[2].set_title('Feature Importances - ExtraTrees')\n",
    "axes[2].set_xlabel('Importance Score')\n",
    "axes[2].set_ylabel('')\n",
    "\n",
    "plt.tight_layout()\n",
    "plt.show()"
   ]
  },
  {
   "cell_type": "code",
   "execution_count": 89,
   "metadata": {
    "execution": {
     "iopub.execute_input": "2024-07-09T10:11:11.546713Z",
     "iopub.status.busy": "2024-07-09T10:11:11.544776Z",
     "iopub.status.idle": "2024-07-09T10:11:11.867437Z",
     "shell.execute_reply": "2024-07-09T10:11:11.866855Z",
     "shell.execute_reply.started": "2024-07-09T09:14:09.323496Z"
    },
    "papermill": {
     "duration": 0.4862,
     "end_time": "2024-07-09T10:11:11.867598",
     "exception": false,
     "start_time": "2024-07-09T10:11:11.381398",
     "status": "completed"
    },
    "tags": []
   },
   "outputs": [
    {
     "data": {
      "image/png": "[encoded data removed]",
      "text/plain": [
       "<Figure size 1080x720 with 1 Axes>"
      ]
     },
     "metadata": {
      "needs_background": "light"
     },
     "output_type": "display_data"
    }
   ],
   "source": [
    "# Calculate mean importance across all models for each feature\n",
    "mean_importance_df = pd.DataFrame({\n",
    "    'Feature': feature_names,\n",
    "    'Mean Importance': np.mean([lgb_importance, xgb_importance, et_importance], axis=0)\n",
    "})\n",
    "\n",
    "# Sort mean_importance_df by Mean Importance in descending order\n",
    "mean_importance_df = mean_importance_df.sort_values(by='Mean Importance', ascending=False)\n",
    "\n",
    "# Plot the mean feature importances using seaborn\n",
    "plt.figure(figsize=(15, 10))\n",
    "sns.barplot(x='Mean Importance', y='Feature', data=mean_importance_df, palette='viridis')\n",
    "plt.xlabel('Mean Feature Importance Score')\n",
    "plt.ylabel('Features')\n",
    "plt.title('Mean Feature Importances across LightGBM, XGBoost, and ExtraTrees Models')\n",
    "plt.show()"
   ]
  },
  {
   "cell_type": "code",
   "execution_count": 90,
   "metadata": {
    "_cell_guid": "4a94860b-d7e9-4163-a074-a3e4206b4ce7",
    "_uuid": "fbda6155-c61d-435d-b963-c0008508663c",
    "collapsed": false,
    "execution": {
     "iopub.execute_input": "2024-07-09T10:11:12.155735Z",
     "iopub.status.busy": "2024-07-09T10:11:12.147333Z",
     "iopub.status.idle": "2024-07-09T10:11:12.272690Z",
     "shell.execute_reply": "2024-07-09T10:11:12.272037Z",
     "shell.execute_reply.started": "2024-07-09T09:29:17.304502Z"
    },
    "jupyter": {
     "outputs_hidden": false
    },
    "papermill": {
     "duration": 0.270456,
     "end_time": "2024-07-09T10:11:12.272821",
     "exception": false,
     "start_time": "2024-07-09T10:11:12.002365",
     "status": "completed"
    },
    "tags": []
   },
   "outputs": [
    {
     "data": {
      "image/png": "[encoded data removed]",
      "text/plain": [
       "<Figure size 288x360 with 1 Axes>"
      ]
     },
     "metadata": {
      "needs_background": "light"
     },
     "output_type": "display_data"
    }
   ],
   "source": [
    "# Visualization of RMSE comparison\n",
    "results = {\n",
    "    'Model': ['LightGBM', 'XGBoost', 'ExtraTrees'],\n",
    "    'RMSE': [np.sqrt(np.abs(lgb_grid_search.best_score_)), np.sqrt(np.abs(xgb_grid_search.best_score_)), np.sqrt(np.abs(et_grid_search.best_score_))]\n",
    "}\n",
    "\n",
    "results_df = pd.DataFrame(results)\n",
    "\n",
    "plt.figure(figsize=(4, 5))\n",
    "sns.barplot(x='Model', y='RMSE', data=results_df)\n",
    "plt.title('RMSE Comparison of Different Models')\n",
    "plt.xlabel('Model')\n",
    "plt.ylabel('RMSE')\n",
    "plt.show()"
   ]
  },
  {
   "cell_type": "code",
   "execution_count": null,
   "metadata": {
    "papermill": {
     "duration": 0.13227,
     "end_time": "2024-07-09T10:11:12.538268",
     "exception": false,
     "start_time": "2024-07-09T10:11:12.405998",
     "status": "completed"
    },
    "tags": []
   },
   "outputs": [],
   "source": []
  }
 ],
 "metadata": {
  "kaggle": {
   "accelerator": "none",
   "dataSources": [
    {
     "datasetId": 245550,
     "sourceId": 518431,
     "sourceType": "datasetVersion"
    }
   ],
   "dockerImageVersionId": 30043,
   "isGpuEnabled": false,
   "isInternetEnabled": true,
   "language": "python",
   "sourceType": "notebook"
  },
  "kernelspec": {
   "display_name": "Python 3",
   "language": "python",
   "name": "python3"
  },
  "language_info": {
   "codemirror_mode": {
    "name": "ipython",
    "version": 3
   },
   "file_extension": ".py",
   "mimetype": "text/x-python",
   "name": "python",
   "nbconvert_exporter": "python",
   "pygments_lexer": "ipython3",
   "version": "3.7.6"
  },
  "papermill": {
   "duration": 2471.095906,
   "end_time": "2024-07-09T10:11:13.757122",
   "environment_variables": {},
   "exception": null,
   "input_path": "__notebook__.ipynb",
   "output_path": "__notebook__.ipynb",
   "parameters": {},
   "start_time": "2024-07-09T09:30:02.661216",
   "version": "2.1.0"
  }
 },
 "nbformat": 4,
 "nbformat_minor": 4
}
